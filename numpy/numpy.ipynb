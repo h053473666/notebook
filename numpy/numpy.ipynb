{
 "cells": [
  {
   "cell_type": "code",
   "execution_count": 1,
   "metadata": {
    "executionInfo": {
     "elapsed": 2242,
     "status": "ok",
     "timestamp": 1609241464112,
     "user": {
      "displayName": "蔡旻翰",
      "photoUrl": "",
      "userId": "02226921560577958845"
     },
     "user_tz": -480
    },
    "id": "80YYpg2e8eoH"
   },
   "outputs": [],
   "source": [
    "import numpy as np"
   ]
  },
  {
   "cell_type": "markdown",
   "metadata": {
    "id": "r-gLcgKa83rZ"
   },
   "source": [
    "np.array(裡面放list)"
   ]
  },
  {
   "cell_type": "code",
   "execution_count": 2,
   "metadata": {
    "colab": {
     "base_uri": "https://localhost:8080/"
    },
    "executionInfo": {
     "elapsed": 5042,
     "status": "ok",
     "timestamp": 1609241467282,
     "user": {
      "displayName": "蔡旻翰",
      "photoUrl": "",
      "userId": "02226921560577958845"
     },
     "user_tz": -480
    },
    "id": "nK64rJl-8yH7",
    "outputId": "a61de46e-1b2d-4e4d-f98b-de39f8cb5703"
   },
   "outputs": [
    {
     "data": {
      "text/plain": [
       "array([1, 4, 2, 5, 3])"
      ]
     },
     "execution_count": 2,
     "metadata": {
      "tags": []
     },
     "output_type": "execute_result"
    }
   ],
   "source": [
    "np.array([1, 4, 2, 5, 3])"
   ]
  },
  {
   "cell_type": "code",
   "execution_count": 3,
   "metadata": {
    "colab": {
     "base_uri": "https://localhost:8080/"
    },
    "executionInfo": {
     "elapsed": 5032,
     "status": "ok",
     "timestamp": 1609241467284,
     "user": {
      "displayName": "蔡旻翰",
      "photoUrl": "",
      "userId": "02226921560577958845"
     },
     "user_tz": -480
    },
    "id": "9SwoCsu888CQ",
    "outputId": "fc838780-bb55-40fb-d8f4-4c8989e1b3d2"
   },
   "outputs": [
    {
     "data": {
      "text/plain": [
       "array([1., 2., 3., 4.], dtype=float32)"
      ]
     },
     "execution_count": 3,
     "metadata": {
      "tags": []
     },
     "output_type": "execute_result"
    }
   ],
   "source": [
    "#改變型態\n",
    "np.array([1, 2, 3, 4], dtype='float32')"
   ]
  },
  {
   "cell_type": "code",
   "execution_count": 4,
   "metadata": {
    "colab": {
     "base_uri": "https://localhost:8080/"
    },
    "executionInfo": {
     "elapsed": 5022,
     "status": "ok",
     "timestamp": 1609241467287,
     "user": {
      "displayName": "蔡旻翰",
      "photoUrl": "",
      "userId": "02226921560577958845"
     },
     "user_tz": -480
    },
    "id": "MdxfkmHo9CN6",
    "outputId": "9fd783e1-f485-426e-8fee-cdd17ce6203c"
   },
   "outputs": [
    {
     "name": "stdout",
     "output_type": "stream",
     "text": [
      "[0. 0. 0. 0. 0. 0. 0. 0. 0. 0.]\n"
     ]
    }
   ],
   "source": [
    "#全部都0\n",
    "print(np.zeros(10))"
   ]
  },
  {
   "cell_type": "code",
   "execution_count": 5,
   "metadata": {
    "colab": {
     "base_uri": "https://localhost:8080/"
    },
    "executionInfo": {
     "elapsed": 5013,
     "status": "ok",
     "timestamp": 1609241467290,
     "user": {
      "displayName": "蔡旻翰",
      "photoUrl": "",
      "userId": "02226921560577958845"
     },
     "user_tz": -480
    },
    "id": "mnb-3xsl9P8h",
    "outputId": "0c1f356b-b800-402c-98c1-e8a0c1b7872c"
   },
   "outputs": [
    {
     "name": "stdout",
     "output_type": "stream",
     "text": [
      "[[0. 0. 0. 0. 0.]\n",
      " [0. 0. 0. 0. 0.]\n",
      " [0. 0. 0. 0. 0.]]\n"
     ]
    }
   ],
   "source": [
    "print(np.zeros((3, 5)))"
   ]
  },
  {
   "cell_type": "code",
   "execution_count": 6,
   "metadata": {
    "colab": {
     "base_uri": "https://localhost:8080/"
    },
    "executionInfo": {
     "elapsed": 5003,
     "status": "ok",
     "timestamp": 1609241467292,
     "user": {
      "displayName": "蔡旻翰",
      "photoUrl": "",
      "userId": "02226921560577958845"
     },
     "user_tz": -480
    },
    "id": "y7jlK2aE9Gfe",
    "outputId": "b7936e07-b3ea-48d0-96e8-56e20faf9338"
   },
   "outputs": [
    {
     "data": {
      "text/plain": [
       "array([0, 0, 0, 0, 0, 0, 0, 0, 0, 0])"
      ]
     },
     "execution_count": 6,
     "metadata": {
      "tags": []
     },
     "output_type": "execute_result"
    }
   ],
   "source": [
    "np.zeros(10, dtype=int)"
   ]
  },
  {
   "cell_type": "code",
   "execution_count": 7,
   "metadata": {
    "colab": {
     "base_uri": "https://localhost:8080/"
    },
    "executionInfo": {
     "elapsed": 4993,
     "status": "ok",
     "timestamp": 1609241467294,
     "user": {
      "displayName": "蔡旻翰",
      "photoUrl": "",
      "userId": "02226921560577958845"
     },
     "user_tz": -480
    },
    "id": "A8qQft3S9VzB",
    "outputId": "ae5356e7-e997-4cab-98e3-d79603af9a2f"
   },
   "outputs": [
    {
     "data": {
      "text/plain": [
       "array([1., 1., 1., 1., 1., 1., 1., 1., 1., 1.])"
      ]
     },
     "execution_count": 7,
     "metadata": {
      "tags": []
     },
     "output_type": "execute_result"
    }
   ],
   "source": [
    "#全部都一\n",
    "np.ones(10)"
   ]
  },
  {
   "cell_type": "code",
   "execution_count": 8,
   "metadata": {
    "colab": {
     "base_uri": "https://localhost:8080/"
    },
    "executionInfo": {
     "elapsed": 4982,
     "status": "ok",
     "timestamp": 1609241467295,
     "user": {
      "displayName": "蔡旻翰",
      "photoUrl": "",
      "userId": "02226921560577958845"
     },
     "user_tz": -480
    },
    "id": "lvDS9Uwm9dqS",
    "outputId": "9f5dfb32-7ff9-49b2-b7eb-225a82f6b616"
   },
   "outputs": [
    {
     "data": {
      "text/plain": [
       "array([3.14, 3.14, 3.14])"
      ]
     },
     "execution_count": 8,
     "metadata": {
      "tags": []
     },
     "output_type": "execute_result"
    }
   ],
   "source": [
    "#全部都其他\n",
    "np.full(3, 3.14)"
   ]
  },
  {
   "cell_type": "code",
   "execution_count": 9,
   "metadata": {
    "colab": {
     "base_uri": "https://localhost:8080/"
    },
    "executionInfo": {
     "elapsed": 4973,
     "status": "ok",
     "timestamp": 1609241467298,
     "user": {
      "displayName": "蔡旻翰",
      "photoUrl": "",
      "userId": "02226921560577958845"
     },
     "user_tz": -480
    },
    "id": "XD7fS__c9d1K",
    "outputId": "f54d40eb-9ca0-4677-8407-c6b6818f769a"
   },
   "outputs": [
    {
     "data": {
      "text/plain": [
       "array([ 0,  2,  4,  6,  8, 10, 12, 14, 16, 18])"
      ]
     },
     "execution_count": 9,
     "metadata": {
      "tags": []
     },
     "output_type": "execute_result"
    }
   ],
   "source": [
    "#range 用法 用np\n",
    "np.arange(0, 20, 2)"
   ]
  },
  {
   "cell_type": "code",
   "execution_count": 10,
   "metadata": {
    "colab": {
     "base_uri": "https://localhost:8080/"
    },
    "executionInfo": {
     "elapsed": 4963,
     "status": "ok",
     "timestamp": 1609241467300,
     "user": {
      "displayName": "蔡旻翰",
      "photoUrl": "",
      "userId": "02226921560577958845"
     },
     "user_tz": -480
    },
    "id": "R5d9sAAl9d3y",
    "outputId": "109c40af-9c4a-4fcf-80b5-b4009c2612d9"
   },
   "outputs": [
    {
     "data": {
      "text/plain": [
       "array([0.  , 0.25, 0.5 , 0.75, 1.  ])"
      ]
     },
     "execution_count": 10,
     "metadata": {
      "tags": []
     },
     "output_type": "execute_result"
    }
   ],
   "source": [
    "#0 到一切5等分\n",
    "np.linspace(0, 1, 5)"
   ]
  },
  {
   "cell_type": "code",
   "execution_count": 11,
   "metadata": {
    "colab": {
     "base_uri": "https://localhost:8080/"
    },
    "executionInfo": {
     "elapsed": 4952,
     "status": "ok",
     "timestamp": 1609241467301,
     "user": {
      "displayName": "蔡旻翰",
      "photoUrl": "",
      "userId": "02226921560577958845"
     },
     "user_tz": -480
    },
    "id": "Opla-P5j9d7M",
    "outputId": "240947dc-9e30-44d0-ec5d-41501de01364"
   },
   "outputs": [
    {
     "data": {
      "text/plain": [
       "array([[0.2683508 , 0.9532358 , 0.34505148],\n",
       "       [0.2562143 , 0.15299885, 0.12993483],\n",
       "       [0.36268335, 0.44928558, 0.7611027 ]])"
      ]
     },
     "execution_count": 11,
     "metadata": {
      "tags": []
     },
     "output_type": "execute_result"
    }
   ],
   "source": [
    "#0 到 1 隨機的 3*3數組\n",
    "np.random.random((3, 3))"
   ]
  },
  {
   "cell_type": "code",
   "execution_count": 12,
   "metadata": {
    "colab": {
     "base_uri": "https://localhost:8080/"
    },
    "executionInfo": {
     "elapsed": 4941,
     "status": "ok",
     "timestamp": 1609241467302,
     "user": {
      "displayName": "蔡旻翰",
      "photoUrl": "",
      "userId": "02226921560577958845"
     },
     "user_tz": -480
    },
    "id": "paBX8Ddt-C9J",
    "outputId": "dd28890f-7306-4ffa-a5c1-1b4d292557a9"
   },
   "outputs": [
    {
     "data": {
      "text/plain": [
       "array([[ 1.40797646, -0.24712827,  1.10819075],\n",
       "       [ 1.02970763, -0.10292794, -1.1457347 ],\n",
       "       [ 0.62391172, -0.00845688,  0.61969243]])"
      ]
     },
     "execution_count": 12,
     "metadata": {
      "tags": []
     },
     "output_type": "execute_result"
    }
   ],
   "source": [
    "#平均0 標準差1的常態分佈\n",
    "np.random.normal(0, 1, (3, 3))"
   ]
  },
  {
   "cell_type": "code",
   "execution_count": 13,
   "metadata": {
    "colab": {
     "base_uri": "https://localhost:8080/"
    },
    "executionInfo": {
     "elapsed": 4934,
     "status": "ok",
     "timestamp": 1609241467308,
     "user": {
      "displayName": "蔡旻翰",
      "photoUrl": "",
      "userId": "02226921560577958845"
     },
     "user_tz": -480
    },
    "id": "d_-3Uyuc-C_p",
    "outputId": "8211e01f-eb6f-49ac-f95c-7410e37d724b"
   },
   "outputs": [
    {
     "data": {
      "text/plain": [
       "array([[1, 0, 9],\n",
       "       [8, 4, 6],\n",
       "       [9, 2, 4]])"
      ]
     },
     "execution_count": 13,
     "metadata": {
      "tags": []
     },
     "output_type": "execute_result"
    }
   ],
   "source": [
    "#隨機 0≤ x < 10  3*3\n",
    "np.random.randint(0, 10, (3, 3))"
   ]
  },
  {
   "cell_type": "code",
   "execution_count": 14,
   "metadata": {
    "colab": {
     "base_uri": "https://localhost:8080/"
    },
    "executionInfo": {
     "elapsed": 4923,
     "status": "ok",
     "timestamp": 1609241467309,
     "user": {
      "displayName": "蔡旻翰",
      "photoUrl": "",
      "userId": "02226921560577958845"
     },
     "user_tz": -480
    },
    "id": "6H5WmFhr-DCU",
    "outputId": "ce99aad2-b8d4-4fd2-d3f4-15b47713ed1e"
   },
   "outputs": [
    {
     "data": {
      "text/plain": [
       "array([3, 1, 2, 3, 1, 1, 0, 0, 1, 2])"
      ]
     },
     "execution_count": 14,
     "metadata": {
      "tags": []
     },
     "output_type": "execute_result"
    }
   ],
   "source": [
    "np.random.randint(4, size=10)"
   ]
  },
  {
   "cell_type": "code",
   "execution_count": 15,
   "metadata": {
    "colab": {
     "base_uri": "https://localhost:8080/"
    },
    "executionInfo": {
     "elapsed": 4912,
     "status": "ok",
     "timestamp": 1609241467310,
     "user": {
      "displayName": "蔡旻翰",
      "photoUrl": "",
      "userId": "02226921560577958845"
     },
     "user_tz": -480
    },
    "id": "42YA5Wp8-DEw",
    "outputId": "9393a96f-fcb4-4e3d-d039-ade65583ac26"
   },
   "outputs": [
    {
     "data": {
      "text/plain": [
       "array([[1., 0., 0.],\n",
       "       [0., 1., 0.],\n",
       "       [0., 0., 1.]])"
      ]
     },
     "execution_count": 15,
     "metadata": {
      "tags": []
     },
     "output_type": "execute_result"
    }
   ],
   "source": [
    "#Create a 3x3 identity matrix(矩陣)\n",
    "np.eye(3)"
   ]
  },
  {
   "cell_type": "code",
   "execution_count": 16,
   "metadata": {
    "colab": {
     "base_uri": "https://localhost:8080/"
    },
    "executionInfo": {
     "elapsed": 4901,
     "status": "ok",
     "timestamp": 1609241467311,
     "user": {
      "displayName": "蔡旻翰",
      "photoUrl": "",
      "userId": "02226921560577958845"
     },
     "user_tz": -480
    },
    "id": "oVaihI39-DH2",
    "outputId": "b5c3bb94-1670-4ac9-da11-9600a5804e6b"
   },
   "outputs": [
    {
     "data": {
      "text/plain": [
       "array([1.53626748e-316, 1.58101007e-322, 1.03321514e-047, 3.15612410e-033,\n",
       "       1.45163512e-047, 9.60965281e-071, 8.25083156e-043, 0.00000000e+000])"
      ]
     },
     "execution_count": 16,
     "metadata": {
      "tags": []
     },
     "output_type": "execute_result"
    }
   ],
   "source": [
    "#類似創造一個隨機大小長度8的數組\n",
    "np.empty(8)"
   ]
  },
  {
   "cell_type": "code",
   "execution_count": 17,
   "metadata": {
    "colab": {
     "base_uri": "https://localhost:8080/"
    },
    "executionInfo": {
     "elapsed": 4891,
     "status": "ok",
     "timestamp": 1609241467312,
     "user": {
      "displayName": "蔡旻翰",
      "photoUrl": "",
      "userId": "02226921560577958845"
     },
     "user_tz": -480
    },
    "id": "aDzuAhYF-hXo",
    "outputId": "1d83b8ff-7070-42f8-e3ab-f1b4f61702f9"
   },
   "outputs": [
    {
     "data": {
      "text/plain": [
       "array([[1.40256225e-316, 0.00000000e+000],\n",
       "       [0.00000000e+000, 0.00000000e+000],\n",
       "       [0.00000000e+000, 0.00000000e+000],\n",
       "       [0.00000000e+000, 0.00000000e+000],\n",
       "       [0.00000000e+000, 0.00000000e+000],\n",
       "       [0.00000000e+000, 0.00000000e+000],\n",
       "       [0.00000000e+000, 6.81019671e-310]])"
      ]
     },
     "execution_count": 17,
     "metadata": {
      "tags": []
     },
     "output_type": "execute_result"
    }
   ],
   "source": [
    "np.empty([7, 2])"
   ]
  },
  {
   "cell_type": "code",
   "execution_count": 18,
   "metadata": {
    "executionInfo": {
     "elapsed": 4890,
     "status": "ok",
     "timestamp": 1609241467314,
     "user": {
      "displayName": "蔡旻翰",
      "photoUrl": "",
      "userId": "02226921560577958845"
     },
     "user_tz": -480
    },
    "id": "Tz3bgDzQ-93G"
   },
   "outputs": [],
   "source": [
    "#seed的用法類似儲存一個random\n",
    "np.random.seed(0)"
   ]
  },
  {
   "cell_type": "code",
   "execution_count": 19,
   "metadata": {
    "colab": {
     "base_uri": "https://localhost:8080/",
     "height": 35
    },
    "executionInfo": {
     "elapsed": 4878,
     "status": "ok",
     "timestamp": 1609241467314,
     "user": {
      "displayName": "蔡旻翰",
      "photoUrl": "",
      "userId": "02226921560577958845"
     },
     "user_tz": -480
    },
    "id": "j_WwKu36_Whz",
    "outputId": "19701446-49d7-4282-d8a4-292da7668fc4"
   },
   "outputs": [
    {
     "data": {
      "application/vnd.google.colaboratory.intrinsic+json": {
       "type": "string"
      },
      "text/plain": [
       "'\\n數組.ndim 維度\\n\\n數組.shape 形狀\\n\\n數組.size 數量\\n\\n數組.itemsize 每個物件byte大小\\n\\n數組.nbytes 數組總共byte大小\\n'"
      ]
     },
     "execution_count": 19,
     "metadata": {
      "tags": []
     },
     "output_type": "execute_result"
    }
   ],
   "source": [
    "'''\n",
    "數組.ndim 維度\n",
    "\n",
    "數組.shape 形狀\n",
    "\n",
    "數組.size 數量\n",
    "\n",
    "數組.itemsize 每個物件byte大小\n",
    "\n",
    "數組.nbytes 數組總共byte大小\n",
    "'''"
   ]
  },
  {
   "cell_type": "code",
   "execution_count": 20,
   "metadata": {
    "executionInfo": {
     "elapsed": 4877,
     "status": "ok",
     "timestamp": 1609241467316,
     "user": {
      "displayName": "蔡旻翰",
      "photoUrl": "",
      "userId": "02226921560577958845"
     },
     "user_tz": -480
    },
    "id": "zl2u9O9J_WlZ"
   },
   "outputs": [],
   "source": [
    "import numpy as np\n",
    "np.random.seed(0)  # seed for reproducibility\n",
    "\n",
    "x1 = np.random.randint(10, size=6)  # One-dimensional array\n",
    "x2 = np.random.randint(10, size=(3, 4))  # Two-dimensional array\n",
    "x3 = np.random.randint(10, size=(3, 4, 5))  # Three-dimensional array"
   ]
  },
  {
   "cell_type": "code",
   "execution_count": 21,
   "metadata": {
    "colab": {
     "base_uri": "https://localhost:8080/"
    },
    "executionInfo": {
     "elapsed": 4866,
     "status": "ok",
     "timestamp": 1609241467317,
     "user": {
      "displayName": "蔡旻翰",
      "photoUrl": "",
      "userId": "02226921560577958845"
     },
     "user_tz": -480
    },
    "id": "MOGyJKfM_WoM",
    "outputId": "e7da9685-848d-4c39-cccd-8ae7ae8ca28b"
   },
   "outputs": [
    {
     "data": {
      "text/plain": [
       "array([5, 0, 3, 3, 7, 9])"
      ]
     },
     "execution_count": 21,
     "metadata": {
      "tags": []
     },
     "output_type": "execute_result"
    }
   ],
   "source": [
    "x1"
   ]
  },
  {
   "cell_type": "code",
   "execution_count": 22,
   "metadata": {
    "colab": {
     "base_uri": "https://localhost:8080/"
    },
    "executionInfo": {
     "elapsed": 4855,
     "status": "ok",
     "timestamp": 1609241467318,
     "user": {
      "displayName": "蔡旻翰",
      "photoUrl": "",
      "userId": "02226921560577958845"
     },
     "user_tz": -480
    },
    "id": "RLlt41xg_WrD",
    "outputId": "ea9b8730-e6d3-45e4-cd17-0f5702ef46b0"
   },
   "outputs": [
    {
     "data": {
      "text/plain": [
       "5"
      ]
     },
     "execution_count": 22,
     "metadata": {
      "tags": []
     },
     "output_type": "execute_result"
    }
   ],
   "source": [
    "#跟list索引一樣\n",
    "x1[0]"
   ]
  },
  {
   "cell_type": "code",
   "execution_count": 23,
   "metadata": {
    "colab": {
     "base_uri": "https://localhost:8080/"
    },
    "executionInfo": {
     "elapsed": 4844,
     "status": "ok",
     "timestamp": 1609241467319,
     "user": {
      "displayName": "蔡旻翰",
      "photoUrl": "",
      "userId": "02226921560577958845"
     },
     "user_tz": -480
    },
    "id": "tSzpwuVAAuFS",
    "outputId": "fa3156fa-09cd-4371-858c-4d66fbe2dd54"
   },
   "outputs": [
    {
     "data": {
      "text/plain": [
       "0"
      ]
     },
     "execution_count": 23,
     "metadata": {
      "tags": []
     },
     "output_type": "execute_result"
    }
   ],
   "source": [
    "x1[1]"
   ]
  },
  {
   "cell_type": "code",
   "execution_count": 24,
   "metadata": {
    "colab": {
     "base_uri": "https://localhost:8080/"
    },
    "executionInfo": {
     "elapsed": 4842,
     "status": "ok",
     "timestamp": 1609241467332,
     "user": {
      "displayName": "蔡旻翰",
      "photoUrl": "",
      "userId": "02226921560577958845"
     },
     "user_tz": -480
    },
    "id": "PuMByZKPAuHn",
    "outputId": "3c7517bc-af7e-4e11-de7e-6becc9527f5c"
   },
   "outputs": [
    {
     "data": {
      "text/plain": [
       "7"
      ]
     },
     "execution_count": 24,
     "metadata": {
      "tags": []
     },
     "output_type": "execute_result"
    }
   ],
   "source": [
    "x1[4]"
   ]
  },
  {
   "cell_type": "code",
   "execution_count": 25,
   "metadata": {
    "colab": {
     "base_uri": "https://localhost:8080/"
    },
    "executionInfo": {
     "elapsed": 4827,
     "status": "ok",
     "timestamp": 1609241467333,
     "user": {
      "displayName": "蔡旻翰",
      "photoUrl": "",
      "userId": "02226921560577958845"
     },
     "user_tz": -480
    },
    "id": "AvOnXfQSAuKS",
    "outputId": "40692f1b-f7e4-4e8d-be59-2d8604e7fae7"
   },
   "outputs": [
    {
     "data": {
      "text/plain": [
       "9"
      ]
     },
     "execution_count": 25,
     "metadata": {
      "tags": []
     },
     "output_type": "execute_result"
    }
   ],
   "source": [
    "x1[-1]"
   ]
  },
  {
   "cell_type": "code",
   "execution_count": 26,
   "metadata": {
    "colab": {
     "base_uri": "https://localhost:8080/"
    },
    "executionInfo": {
     "elapsed": 4813,
     "status": "ok",
     "timestamp": 1609241467334,
     "user": {
      "displayName": "蔡旻翰",
      "photoUrl": "",
      "userId": "02226921560577958845"
     },
     "user_tz": -480
    },
    "id": "RONtYD-AAuMb",
    "outputId": "dd59385e-691d-4e42-8a3f-1a3df80bd93a"
   },
   "outputs": [
    {
     "data": {
      "text/plain": [
       "7"
      ]
     },
     "execution_count": 26,
     "metadata": {
      "tags": []
     },
     "output_type": "execute_result"
    }
   ],
   "source": [
    "x1[-2]"
   ]
  },
  {
   "cell_type": "code",
   "execution_count": 27,
   "metadata": {
    "colab": {
     "base_uri": "https://localhost:8080/"
    },
    "executionInfo": {
     "elapsed": 4799,
     "status": "ok",
     "timestamp": 1609241467335,
     "user": {
      "displayName": "蔡旻翰",
      "photoUrl": "",
      "userId": "02226921560577958845"
     },
     "user_tz": -480
    },
    "id": "yJZpIxUXAuOm",
    "outputId": "49b6e783-cf7b-45e5-a9a2-8eafa86d3aee"
   },
   "outputs": [
    {
     "data": {
      "text/plain": [
       "array([[3, 5, 2, 4],\n",
       "       [7, 6, 8, 8],\n",
       "       [1, 6, 7, 7]])"
      ]
     },
     "execution_count": 27,
     "metadata": {
      "tags": []
     },
     "output_type": "execute_result"
    }
   ],
   "source": [
    "x2"
   ]
  },
  {
   "cell_type": "code",
   "execution_count": 28,
   "metadata": {
    "colab": {
     "base_uri": "https://localhost:8080/"
    },
    "executionInfo": {
     "elapsed": 4786,
     "status": "ok",
     "timestamp": 1609241467335,
     "user": {
      "displayName": "蔡旻翰",
      "photoUrl": "",
      "userId": "02226921560577958845"
     },
     "user_tz": -480
    },
    "id": "ccJcpXGxAuRA",
    "outputId": "1d679c78-2e45-4d0e-8dd1-dcd5365f32af"
   },
   "outputs": [
    {
     "data": {
      "text/plain": [
       "3"
      ]
     },
     "execution_count": 28,
     "metadata": {
      "tags": []
     },
     "output_type": "execute_result"
    }
   ],
   "source": [
    "x2[0, 0]"
   ]
  },
  {
   "cell_type": "code",
   "execution_count": 29,
   "metadata": {
    "colab": {
     "base_uri": "https://localhost:8080/"
    },
    "executionInfo": {
     "elapsed": 4769,
     "status": "ok",
     "timestamp": 1609241467336,
     "user": {
      "displayName": "蔡旻翰",
      "photoUrl": "",
      "userId": "02226921560577958845"
     },
     "user_tz": -480
    },
    "id": "w2dPv1urAuTs",
    "outputId": "3a883d77-0ed1-413c-9795-7312db0af6a1"
   },
   "outputs": [
    {
     "data": {
      "text/plain": [
       "1"
      ]
     },
     "execution_count": 29,
     "metadata": {
      "tags": []
     },
     "output_type": "execute_result"
    }
   ],
   "source": [
    "x2[2, 0]"
   ]
  },
  {
   "cell_type": "code",
   "execution_count": 30,
   "metadata": {
    "colab": {
     "base_uri": "https://localhost:8080/"
    },
    "executionInfo": {
     "elapsed": 4756,
     "status": "ok",
     "timestamp": 1609241467337,
     "user": {
      "displayName": "蔡旻翰",
      "photoUrl": "",
      "userId": "02226921560577958845"
     },
     "user_tz": -480
    },
    "id": "E2cpywwxQ7TD",
    "outputId": "65623b7b-e50f-4d27-f6ba-ff3e457d124f"
   },
   "outputs": [
    {
     "data": {
      "text/plain": [
       "7"
      ]
     },
     "execution_count": 30,
     "metadata": {
      "tags": []
     },
     "output_type": "execute_result"
    }
   ],
   "source": [
    "x2[2, -1]"
   ]
  },
  {
   "cell_type": "code",
   "execution_count": 31,
   "metadata": {
    "executionInfo": {
     "elapsed": 4753,
     "status": "ok",
     "timestamp": 1609241467337,
     "user": {
      "displayName": "蔡旻翰",
      "photoUrl": "",
      "userId": "02226921560577958845"
     },
     "user_tz": -480
    },
    "id": "sz5QKTQ2Q7TF"
   },
   "outputs": [],
   "source": [
    "x2[0, 0] = 12"
   ]
  },
  {
   "cell_type": "code",
   "execution_count": 32,
   "metadata": {
    "colab": {
     "base_uri": "https://localhost:8080/"
    },
    "executionInfo": {
     "elapsed": 4741,
     "status": "ok",
     "timestamp": 1609241467338,
     "user": {
      "displayName": "蔡旻翰",
      "photoUrl": "",
      "userId": "02226921560577958845"
     },
     "user_tz": -480
    },
    "id": "E8xNt5upQ7TF",
    "outputId": "e378e57f-e6be-4959-d573-e9e13682d1a1"
   },
   "outputs": [
    {
     "data": {
      "text/plain": [
       "array([[12,  5,  2,  4],\n",
       "       [ 7,  6,  8,  8],\n",
       "       [ 1,  6,  7,  7]])"
      ]
     },
     "execution_count": 32,
     "metadata": {
      "tags": []
     },
     "output_type": "execute_result"
    }
   ],
   "source": [
    "x2"
   ]
  },
  {
   "cell_type": "code",
   "execution_count": 33,
   "metadata": {
    "colab": {
     "base_uri": "https://localhost:8080/"
    },
    "executionInfo": {
     "elapsed": 4729,
     "status": "ok",
     "timestamp": 1609241467339,
     "user": {
      "displayName": "蔡旻翰",
      "photoUrl": "",
      "userId": "02226921560577958845"
     },
     "user_tz": -480
    },
    "id": "1UYwKNO2Q7TG",
    "outputId": "98b2fafd-aa96-423e-8b58-bea2d8a34248"
   },
   "outputs": [
    {
     "data": {
      "text/plain": [
       "array([3, 0, 3, 3, 7, 9])"
      ]
     },
     "execution_count": 33,
     "metadata": {
      "tags": []
     },
     "output_type": "execute_result"
    }
   ],
   "source": [
    "x1[0] = 3.14159\n",
    "x1"
   ]
  },
  {
   "cell_type": "code",
   "execution_count": 34,
   "metadata": {
    "colab": {
     "base_uri": "https://localhost:8080/"
    },
    "executionInfo": {
     "elapsed": 4716,
     "status": "ok",
     "timestamp": 1609241467339,
     "user": {
      "displayName": "蔡旻翰",
      "photoUrl": "",
      "userId": "02226921560577958845"
     },
     "user_tz": -480
    },
    "id": "BFRKVDgDQ7TH",
    "outputId": "cbfc79e5-d455-45de-aced-ce3c2c6d6be4"
   },
   "outputs": [
    {
     "data": {
      "text/plain": [
       "array([0, 1, 2, 3, 4, 5, 6, 7, 8, 9])"
      ]
     },
     "execution_count": 34,
     "metadata": {
      "tags": []
     },
     "output_type": "execute_result"
    }
   ],
   "source": [
    "x = np.arange(10)\n",
    "x"
   ]
  },
  {
   "cell_type": "code",
   "execution_count": 35,
   "metadata": {
    "colab": {
     "base_uri": "https://localhost:8080/"
    },
    "executionInfo": {
     "elapsed": 4704,
     "status": "ok",
     "timestamp": 1609241467340,
     "user": {
      "displayName": "蔡旻翰",
      "photoUrl": "",
      "userId": "02226921560577958845"
     },
     "user_tz": -480
    },
    "id": "_bmZZKgnQ7TK",
    "outputId": "9226b44c-864c-4315-fd87-65004bf63942"
   },
   "outputs": [
    {
     "data": {
      "text/plain": [
       "array([0, 1, 2, 3, 4])"
      ]
     },
     "execution_count": 35,
     "metadata": {
      "tags": []
     },
     "output_type": "execute_result"
    }
   ],
   "source": [
    "x[:5]"
   ]
  },
  {
   "cell_type": "code",
   "execution_count": 36,
   "metadata": {
    "colab": {
     "base_uri": "https://localhost:8080/"
    },
    "executionInfo": {
     "elapsed": 4691,
     "status": "ok",
     "timestamp": 1609241467340,
     "user": {
      "displayName": "蔡旻翰",
      "photoUrl": "",
      "userId": "02226921560577958845"
     },
     "user_tz": -480
    },
    "id": "CdRr4rWMQ7TL",
    "outputId": "cdae6226-835d-40d2-ff3c-1fbebeda870d"
   },
   "outputs": [
    {
     "data": {
      "text/plain": [
       "array([5, 6, 7, 8, 9])"
      ]
     },
     "execution_count": 36,
     "metadata": {
      "tags": []
     },
     "output_type": "execute_result"
    }
   ],
   "source": [
    "x[5:]"
   ]
  },
  {
   "cell_type": "code",
   "execution_count": 37,
   "metadata": {
    "colab": {
     "base_uri": "https://localhost:8080/"
    },
    "executionInfo": {
     "elapsed": 4679,
     "status": "ok",
     "timestamp": 1609241467341,
     "user": {
      "displayName": "蔡旻翰",
      "photoUrl": "",
      "userId": "02226921560577958845"
     },
     "user_tz": -480
    },
    "id": "ValZIn4qQ7Tb",
    "outputId": "d484cb57-c385-4f98-cac5-8487b8eb8893"
   },
   "outputs": [
    {
     "data": {
      "text/plain": [
       "array([4, 5, 6])"
      ]
     },
     "execution_count": 37,
     "metadata": {
      "tags": []
     },
     "output_type": "execute_result"
    }
   ],
   "source": [
    "x[4:7]"
   ]
  },
  {
   "cell_type": "code",
   "execution_count": 38,
   "metadata": {
    "colab": {
     "base_uri": "https://localhost:8080/"
    },
    "executionInfo": {
     "elapsed": 4668,
     "status": "ok",
     "timestamp": 1609241467342,
     "user": {
      "displayName": "蔡旻翰",
      "photoUrl": "",
      "userId": "02226921560577958845"
     },
     "user_tz": -480
    },
    "id": "qMholKDOQ7Tc",
    "outputId": "289f72a4-b87f-4f73-d379-df27236d6af2"
   },
   "outputs": [
    {
     "data": {
      "text/plain": [
       "array([0, 2, 4, 6, 8])"
      ]
     },
     "execution_count": 38,
     "metadata": {
      "tags": []
     },
     "output_type": "execute_result"
    }
   ],
   "source": [
    "x[::2]"
   ]
  },
  {
   "cell_type": "code",
   "execution_count": 39,
   "metadata": {
    "colab": {
     "base_uri": "https://localhost:8080/"
    },
    "executionInfo": {
     "elapsed": 4655,
     "status": "ok",
     "timestamp": 1609241467342,
     "user": {
      "displayName": "蔡旻翰",
      "photoUrl": "",
      "userId": "02226921560577958845"
     },
     "user_tz": -480
    },
    "id": "RlPTmjQeQ7Td",
    "outputId": "aaa9f0cc-8f26-4f45-eb59-92bb6dd18d80"
   },
   "outputs": [
    {
     "data": {
      "text/plain": [
       "array([[12,  5,  2,  4],\n",
       "       [ 7,  6,  8,  8],\n",
       "       [ 1,  6,  7,  7]])"
      ]
     },
     "execution_count": 39,
     "metadata": {
      "tags": []
     },
     "output_type": "execute_result"
    }
   ],
   "source": [
    "x2"
   ]
  },
  {
   "cell_type": "code",
   "execution_count": 40,
   "metadata": {
    "colab": {
     "base_uri": "https://localhost:8080/"
    },
    "executionInfo": {
     "elapsed": 4643,
     "status": "ok",
     "timestamp": 1609241467343,
     "user": {
      "displayName": "蔡旻翰",
      "photoUrl": "",
      "userId": "02226921560577958845"
     },
     "user_tz": -480
    },
    "id": "PlKBddjOQ7Td",
    "outputId": "81a7d290-fe57-4244-b759-71fab2fd0fc6"
   },
   "outputs": [
    {
     "data": {
      "text/plain": [
       "array([[12,  5,  2],\n",
       "       [ 7,  6,  8]])"
      ]
     },
     "execution_count": 40,
     "metadata": {
      "tags": []
     },
     "output_type": "execute_result"
    }
   ],
   "source": [
    "x2[:2, :3]"
   ]
  },
  {
   "cell_type": "code",
   "execution_count": 41,
   "metadata": {
    "colab": {
     "base_uri": "https://localhost:8080/"
    },
    "executionInfo": {
     "elapsed": 4631,
     "status": "ok",
     "timestamp": 1609241467343,
     "user": {
      "displayName": "蔡旻翰",
      "photoUrl": "",
      "userId": "02226921560577958845"
     },
     "user_tz": -480
    },
    "id": "pjRI4XMNQ7Td",
    "outputId": "971ec71f-4964-4de6-efdd-cb1c81362c86"
   },
   "outputs": [
    {
     "data": {
      "text/plain": [
       "array([[12,  5,  2,  4],\n",
       "       [ 7,  6,  8,  8]])"
      ]
     },
     "execution_count": 41,
     "metadata": {
      "tags": []
     },
     "output_type": "execute_result"
    }
   ],
   "source": [
    "x2[:-1]"
   ]
  },
  {
   "cell_type": "code",
   "execution_count": 42,
   "metadata": {
    "colab": {
     "base_uri": "https://localhost:8080/"
    },
    "executionInfo": {
     "elapsed": 4620,
     "status": "ok",
     "timestamp": 1609241467344,
     "user": {
      "displayName": "蔡旻翰",
      "photoUrl": "",
      "userId": "02226921560577958845"
     },
     "user_tz": -480
    },
    "id": "Cu-v9ZM7Q7Te",
    "outputId": "b93e3057-ab95-43d4-83d2-29f47faf05e8"
   },
   "outputs": [
    {
     "data": {
      "text/plain": [
       "array([[ 7,  7,  6,  1],\n",
       "       [ 8,  8,  6,  7],\n",
       "       [ 4,  2,  5, 12]])"
      ]
     },
     "execution_count": 42,
     "metadata": {
      "tags": []
     },
     "output_type": "execute_result"
    }
   ],
   "source": [
    "x2[::-1, ::-1]"
   ]
  },
  {
   "cell_type": "code",
   "execution_count": 43,
   "metadata": {
    "colab": {
     "base_uri": "https://localhost:8080/"
    },
    "executionInfo": {
     "elapsed": 4608,
     "status": "ok",
     "timestamp": 1609241467345,
     "user": {
      "displayName": "蔡旻翰",
      "photoUrl": "",
      "userId": "02226921560577958845"
     },
     "user_tz": -480
    },
    "id": "_0qg4qsiQ7Te",
    "outputId": "faadb74c-780a-459d-fdcf-347eacdfe505"
   },
   "outputs": [
    {
     "name": "stdout",
     "output_type": "stream",
     "text": [
      "[[12  5  2  4]\n",
      " [ 7  6  8  8]\n",
      " [ 1  6  7  7]]\n"
     ]
    }
   ],
   "source": [
    "#用=小心ID問題\n",
    "print(x2)"
   ]
  },
  {
   "cell_type": "code",
   "execution_count": 44,
   "metadata": {
    "executionInfo": {
     "elapsed": 4606,
     "status": "ok",
     "timestamp": 1609241467345,
     "user": {
      "displayName": "蔡旻翰",
      "photoUrl": "",
      "userId": "02226921560577958845"
     },
     "user_tz": -480
    },
    "id": "YzqweJcZQ7Te"
   },
   "outputs": [],
   "source": [
    "x2_sub = x2[:2, :2]"
   ]
  },
  {
   "cell_type": "code",
   "execution_count": 45,
   "metadata": {
    "colab": {
     "base_uri": "https://localhost:8080/"
    },
    "executionInfo": {
     "elapsed": 4595,
     "status": "ok",
     "timestamp": 1609241467346,
     "user": {
      "displayName": "蔡旻翰",
      "photoUrl": "",
      "userId": "02226921560577958845"
     },
     "user_tz": -480
    },
    "id": "0pzO2Xa8Q7Tf",
    "outputId": "875251dd-3f00-4885-e944-6d0ed8a1ae1e"
   },
   "outputs": [
    {
     "name": "stdout",
     "output_type": "stream",
     "text": [
      "[[12  5]\n",
      " [ 7  6]]\n"
     ]
    }
   ],
   "source": [
    "print(x2_sub)"
   ]
  },
  {
   "cell_type": "code",
   "execution_count": 46,
   "metadata": {
    "colab": {
     "base_uri": "https://localhost:8080/"
    },
    "executionInfo": {
     "elapsed": 4583,
     "status": "ok",
     "timestamp": 1609241467346,
     "user": {
      "displayName": "蔡旻翰",
      "photoUrl": "",
      "userId": "02226921560577958845"
     },
     "user_tz": -480
    },
    "id": "1A0cqor3Q7Tf",
    "outputId": "88f799b3-cdc8-4f20-af13-d2f7910ded77"
   },
   "outputs": [
    {
     "name": "stdout",
     "output_type": "stream",
     "text": [
      "[[99 99]\n",
      " [ 7  6]]\n"
     ]
    }
   ],
   "source": [
    "x2_sub[0] = 99\n",
    "print(x2_sub)"
   ]
  },
  {
   "cell_type": "code",
   "execution_count": 47,
   "metadata": {
    "colab": {
     "base_uri": "https://localhost:8080/"
    },
    "executionInfo": {
     "elapsed": 4572,
     "status": "ok",
     "timestamp": 1609241467347,
     "user": {
      "displayName": "蔡旻翰",
      "photoUrl": "",
      "userId": "02226921560577958845"
     },
     "user_tz": -480
    },
    "id": "PsGpPiTyQ7Tg",
    "outputId": "5a37e8d7-3458-4ecc-f91f-aa5121615282"
   },
   "outputs": [
    {
     "name": "stdout",
     "output_type": "stream",
     "text": [
      "[[99 99  2  4]\n",
      " [ 7  6  8  8]\n",
      " [ 1  6  7  7]]\n"
     ]
    }
   ],
   "source": [
    "print(x2)"
   ]
  },
  {
   "cell_type": "code",
   "execution_count": 48,
   "metadata": {
    "executionInfo": {
     "elapsed": 4570,
     "status": "ok",
     "timestamp": 1609241467348,
     "user": {
      "displayName": "蔡旻翰",
      "photoUrl": "",
      "userId": "02226921560577958845"
     },
     "user_tz": -480
    },
    "id": "Q9E91Dv2Q7Tg"
   },
   "outputs": [],
   "source": [
    "#用copy()防止 id問題\n",
    "x2_sub = x2[:2, :2].copy()"
   ]
  },
  {
   "cell_type": "code",
   "execution_count": 49,
   "metadata": {
    "colab": {
     "base_uri": "https://localhost:8080/"
    },
    "executionInfo": {
     "elapsed": 4558,
     "status": "ok",
     "timestamp": 1609241467348,
     "user": {
      "displayName": "蔡旻翰",
      "photoUrl": "",
      "userId": "02226921560577958845"
     },
     "user_tz": -480
    },
    "id": "tTscDuU1Q7Th",
    "outputId": "df471aec-bd63-4619-b252-5d0363cf054f"
   },
   "outputs": [
    {
     "name": "stdout",
     "output_type": "stream",
     "text": [
      "[[99 99]\n",
      " [ 7  6]]\n"
     ]
    }
   ],
   "source": [
    "print(x2_sub)"
   ]
  },
  {
   "cell_type": "code",
   "execution_count": 50,
   "metadata": {
    "colab": {
     "base_uri": "https://localhost:8080/"
    },
    "executionInfo": {
     "elapsed": 4547,
     "status": "ok",
     "timestamp": 1609241467349,
     "user": {
      "displayName": "蔡旻翰",
      "photoUrl": "",
      "userId": "02226921560577958845"
     },
     "user_tz": -480
    },
    "id": "7afke7W5Q7Ti",
    "outputId": "abd60839-6a62-48fa-e6d4-bfcf5dbc49f9"
   },
   "outputs": [
    {
     "name": "stdout",
     "output_type": "stream",
     "text": [
      "[[99 99  2  4]\n",
      " [ 7  6  8  8]\n",
      " [ 1  6  7  7]]\n"
     ]
    }
   ],
   "source": [
    "x2_sub[0] = 42\n",
    "print(x2)"
   ]
  },
  {
   "cell_type": "code",
   "execution_count": 51,
   "metadata": {
    "colab": {
     "base_uri": "https://localhost:8080/"
    },
    "executionInfo": {
     "elapsed": 4535,
     "status": "ok",
     "timestamp": 1609241467349,
     "user": {
      "displayName": "蔡旻翰",
      "photoUrl": "",
      "userId": "02226921560577958845"
     },
     "user_tz": -480
    },
    "id": "ZaI5WvERQ7Tj",
    "outputId": "a2b15467-a000-42ee-e064-8645c8616334"
   },
   "outputs": [
    {
     "name": "stdout",
     "output_type": "stream",
     "text": [
      "[[1 2 3]\n",
      " [4 5 6]\n",
      " [7 8 9]]\n"
     ]
    }
   ],
   "source": [
    "#reshape 改變形狀\n",
    "grid = np.arange(1, 10).reshape((3, 3))\n",
    "print(grid)"
   ]
  },
  {
   "cell_type": "code",
   "execution_count": 52,
   "metadata": {
    "colab": {
     "base_uri": "https://localhost:8080/"
    },
    "executionInfo": {
     "elapsed": 4524,
     "status": "ok",
     "timestamp": 1609241467350,
     "user": {
      "displayName": "蔡旻翰",
      "photoUrl": "",
      "userId": "02226921560577958845"
     },
     "user_tz": -480
    },
    "id": "2LKZzLV5Q7Tk",
    "outputId": "ae2ca1b2-0641-4af1-e93f-21f44705903f"
   },
   "outputs": [
    {
     "data": {
      "text/plain": [
       "array([1, 2, 3, 4, 5, 6, 7, 8, 9])"
      ]
     },
     "execution_count": 52,
     "metadata": {
      "tags": []
     },
     "output_type": "execute_result"
    }
   ],
   "source": [
    "a = np.arange(1, 10)\n",
    "a"
   ]
  },
  {
   "cell_type": "code",
   "execution_count": 53,
   "metadata": {
    "colab": {
     "base_uri": "https://localhost:8080/"
    },
    "executionInfo": {
     "elapsed": 4513,
     "status": "ok",
     "timestamp": 1609241467351,
     "user": {
      "displayName": "蔡旻翰",
      "photoUrl": "",
      "userId": "02226921560577958845"
     },
     "user_tz": -480
    },
    "id": "WD7Aq3vaQ7Tl",
    "outputId": "099fe359-d28c-4458-be45-60967423f269"
   },
   "outputs": [
    {
     "data": {
      "text/plain": [
       "array([1, 2, 3])"
      ]
     },
     "execution_count": 53,
     "metadata": {
      "tags": []
     },
     "output_type": "execute_result"
    }
   ],
   "source": [
    "x = np.array([1, 2, 3])\n",
    "x"
   ]
  },
  {
   "cell_type": "code",
   "execution_count": 54,
   "metadata": {
    "colab": {
     "base_uri": "https://localhost:8080/"
    },
    "executionInfo": {
     "elapsed": 4502,
     "status": "ok",
     "timestamp": 1609241467352,
     "user": {
      "displayName": "蔡旻翰",
      "photoUrl": "",
      "userId": "02226921560577958845"
     },
     "user_tz": -480
    },
    "id": "SWTShTfqQ7Tm",
    "outputId": "7b463ddc-8462-4f06-b0d6-6dc40a966ab7"
   },
   "outputs": [
    {
     "data": {
      "text/plain": [
       "array([[1, 2, 3]])"
      ]
     },
     "execution_count": 54,
     "metadata": {
      "tags": []
     },
     "output_type": "execute_result"
    }
   ],
   "source": [
    "x.reshape(1, 3)"
   ]
  },
  {
   "cell_type": "code",
   "execution_count": 55,
   "metadata": {
    "colab": {
     "base_uri": "https://localhost:8080/"
    },
    "executionInfo": {
     "elapsed": 4490,
     "status": "ok",
     "timestamp": 1609241467352,
     "user": {
      "displayName": "蔡旻翰",
      "photoUrl": "",
      "userId": "02226921560577958845"
     },
     "user_tz": -480
    },
    "id": "XEpEJCBzQ7Tn",
    "outputId": "b07b810e-e324-4774-e2f0-97290e83ef1a"
   },
   "outputs": [
    {
     "data": {
      "text/plain": [
       "array([[1, 2, 3]])"
      ]
     },
     "execution_count": 55,
     "metadata": {
      "tags": []
     },
     "output_type": "execute_result"
    }
   ],
   "source": [
    "x[np.newaxis, :]  #或用np.newaxis改"
   ]
  },
  {
   "cell_type": "code",
   "execution_count": 56,
   "metadata": {
    "colab": {
     "base_uri": "https://localhost:8080/"
    },
    "executionInfo": {
     "elapsed": 4480,
     "status": "ok",
     "timestamp": 1609241467353,
     "user": {
      "displayName": "蔡旻翰",
      "photoUrl": "",
      "userId": "02226921560577958845"
     },
     "user_tz": -480
    },
    "id": "KB2N1ZyaQ7Tn",
    "outputId": "e74e6d97-da2e-4abb-e551-df8954c40fd4"
   },
   "outputs": [
    {
     "data": {
      "text/plain": [
       "array([[1],\n",
       "       [2],\n",
       "       [3]])"
      ]
     },
     "execution_count": 56,
     "metadata": {
      "tags": []
     },
     "output_type": "execute_result"
    }
   ],
   "source": [
    "x.reshape(3, 1)"
   ]
  },
  {
   "cell_type": "code",
   "execution_count": 57,
   "metadata": {
    "colab": {
     "base_uri": "https://localhost:8080/"
    },
    "executionInfo": {
     "elapsed": 4469,
     "status": "ok",
     "timestamp": 1609241467354,
     "user": {
      "displayName": "蔡旻翰",
      "photoUrl": "",
      "userId": "02226921560577958845"
     },
     "user_tz": -480
    },
    "id": "ihN3jnY_Q7Tq",
    "outputId": "da272ba8-3628-451b-8847-b86541775ad5"
   },
   "outputs": [
    {
     "data": {
      "text/plain": [
       "array([1, 2, 3])"
      ]
     },
     "execution_count": 57,
     "metadata": {
      "tags": []
     },
     "output_type": "execute_result"
    }
   ],
   "source": [
    "x.reshape(3)"
   ]
  },
  {
   "cell_type": "code",
   "execution_count": 58,
   "metadata": {
    "colab": {
     "base_uri": "https://localhost:8080/"
    },
    "executionInfo": {
     "elapsed": 4458,
     "status": "ok",
     "timestamp": 1609241467354,
     "user": {
      "displayName": "蔡旻翰",
      "photoUrl": "",
      "userId": "02226921560577958845"
     },
     "user_tz": -480
    },
    "id": "zMTxW-NHQ7Tt",
    "outputId": "d4bebdef-00bb-4c4a-e267-a307d991e872"
   },
   "outputs": [
    {
     "data": {
      "text/plain": [
       "array([[1],\n",
       "       [2],\n",
       "       [3]])"
      ]
     },
     "execution_count": 58,
     "metadata": {
      "tags": []
     },
     "output_type": "execute_result"
    }
   ],
   "source": [
    "x[:, np.newaxis]"
   ]
  },
  {
   "cell_type": "code",
   "execution_count": 59,
   "metadata": {
    "colab": {
     "base_uri": "https://localhost:8080/"
    },
    "executionInfo": {
     "elapsed": 4447,
     "status": "ok",
     "timestamp": 1609241467355,
     "user": {
      "displayName": "蔡旻翰",
      "photoUrl": "",
      "userId": "02226921560577958845"
     },
     "user_tz": -480
    },
    "id": "xP0Y8JCoQ7Ty",
    "outputId": "1502edd2-9bec-48e9-97c3-50d1721aebb5"
   },
   "outputs": [
    {
     "data": {
      "text/plain": [
       "array([1, 2, 3, 3, 2, 1])"
      ]
     },
     "execution_count": 59,
     "metadata": {
      "tags": []
     },
     "output_type": "execute_result"
    }
   ],
   "source": [
    "#把array連接\n",
    "x = np.array([1, 2, 3])\n",
    "y = np.array([3, 2, 1])\n",
    "np.concatenate([x, y])"
   ]
  },
  {
   "cell_type": "code",
   "execution_count": 60,
   "metadata": {
    "colab": {
     "base_uri": "https://localhost:8080/"
    },
    "executionInfo": {
     "elapsed": 4437,
     "status": "ok",
     "timestamp": 1609241467356,
     "user": {
      "displayName": "蔡旻翰",
      "photoUrl": "",
      "userId": "02226921560577958845"
     },
     "user_tz": -480
    },
    "id": "3isBXcLkQ7T1",
    "outputId": "1509167a-d18f-4bca-e0f7-adf148217569"
   },
   "outputs": [
    {
     "data": {
      "text/plain": [
       "array([99, 99, 99])"
      ]
     },
     "execution_count": 60,
     "metadata": {
      "tags": []
     },
     "output_type": "execute_result"
    }
   ],
   "source": [
    "z = np.full(3, 99)\n",
    "z"
   ]
  },
  {
   "cell_type": "code",
   "execution_count": 61,
   "metadata": {
    "colab": {
     "base_uri": "https://localhost:8080/"
    },
    "executionInfo": {
     "elapsed": 4426,
     "status": "ok",
     "timestamp": 1609241467357,
     "user": {
      "displayName": "蔡旻翰",
      "photoUrl": "",
      "userId": "02226921560577958845"
     },
     "user_tz": -480
    },
    "id": "Dvba7wicQ7T2",
    "outputId": "d96c31fb-8c1d-408f-b154-585b369b185c"
   },
   "outputs": [
    {
     "name": "stdout",
     "output_type": "stream",
     "text": [
      "[ 1  2  3  3  2  1 99 99 99]\n"
     ]
    }
   ],
   "source": [
    "print(np.concatenate([x, y, z]))"
   ]
  },
  {
   "cell_type": "code",
   "execution_count": 62,
   "metadata": {
    "colab": {
     "base_uri": "https://localhost:8080/"
    },
    "executionInfo": {
     "elapsed": 4414,
     "status": "ok",
     "timestamp": 1609241467358,
     "user": {
      "displayName": "蔡旻翰",
      "photoUrl": "",
      "userId": "02226921560577958845"
     },
     "user_tz": -480
    },
    "id": "JjyDA_6rQ7T2",
    "outputId": "3e2fa9d1-8eae-425a-d308-cc1a533e622f"
   },
   "outputs": [
    {
     "data": {
      "text/plain": [
       "array([[1, 2, 3],\n",
       "       [4, 5, 6]])"
      ]
     },
     "execution_count": 62,
     "metadata": {
      "tags": []
     },
     "output_type": "execute_result"
    }
   ],
   "source": [
    "grid = np.array([[1, 2, 3], [4, 5, 6]])\n",
    "grid"
   ]
  },
  {
   "cell_type": "code",
   "execution_count": 63,
   "metadata": {
    "colab": {
     "base_uri": "https://localhost:8080/"
    },
    "executionInfo": {
     "elapsed": 4394,
     "status": "ok",
     "timestamp": 1609241467359,
     "user": {
      "displayName": "蔡旻翰",
      "photoUrl": "",
      "userId": "02226921560577958845"
     },
     "user_tz": -480
    },
    "id": "iTLRsYLWQ7T2",
    "outputId": "285680c0-eb97-4f6f-eccd-8961e8b09ba6"
   },
   "outputs": [
    {
     "data": {
      "text/plain": [
       "array([[1, 2, 3],\n",
       "       [4, 5, 6]])"
      ]
     },
     "execution_count": 63,
     "metadata": {
      "tags": []
     },
     "output_type": "execute_result"
    }
   ],
   "source": [
    "a = np.arange(1, 7).reshape(2, 3)\n",
    "a"
   ]
  },
  {
   "cell_type": "code",
   "execution_count": 64,
   "metadata": {
    "colab": {
     "base_uri": "https://localhost:8080/"
    },
    "executionInfo": {
     "elapsed": 4382,
     "status": "ok",
     "timestamp": 1609241467360,
     "user": {
      "displayName": "蔡旻翰",
      "photoUrl": "",
      "userId": "02226921560577958845"
     },
     "user_tz": -480
    },
    "id": "918huRTRQ7T3",
    "outputId": "8870e52b-c208-4245-8de7-46a62e5f0993"
   },
   "outputs": [
    {
     "data": {
      "text/plain": [
       "array([[1, 2, 3],\n",
       "       [4, 5, 6],\n",
       "       [1, 2, 3],\n",
       "       [4, 5, 6]])"
      ]
     },
     "execution_count": 64,
     "metadata": {
      "tags": []
     },
     "output_type": "execute_result"
    }
   ],
   "source": [
    "b = np.concatenate([grid, a])\n",
    "b"
   ]
  },
  {
   "cell_type": "code",
   "execution_count": 65,
   "metadata": {
    "colab": {
     "base_uri": "https://localhost:8080/"
    },
    "executionInfo": {
     "elapsed": 4368,
     "status": "ok",
     "timestamp": 1609241467360,
     "user": {
      "displayName": "蔡旻翰",
      "photoUrl": "",
      "userId": "02226921560577958845"
     },
     "user_tz": -480
    },
    "id": "RpqJWLT_Q7T3",
    "outputId": "aac60218-4592-47b5-b2c6-9ad6dbe48dcc"
   },
   "outputs": [
    {
     "data": {
      "text/plain": [
       "array([[[1, 2, 3],\n",
       "        [4, 5, 6]],\n",
       "\n",
       "       [[1, 2, 3],\n",
       "        [4, 5, 6]]])"
      ]
     },
     "execution_count": 65,
     "metadata": {
      "tags": []
     },
     "output_type": "execute_result"
    }
   ],
   "source": [
    "b.reshape(2, 2, 3)"
   ]
  },
  {
   "cell_type": "code",
   "execution_count": 66,
   "metadata": {
    "colab": {
     "base_uri": "https://localhost:8080/"
    },
    "executionInfo": {
     "elapsed": 4352,
     "status": "ok",
     "timestamp": 1609241467361,
     "user": {
      "displayName": "蔡旻翰",
      "photoUrl": "",
      "userId": "02226921560577958845"
     },
     "user_tz": -480
    },
    "id": "yzk0htNwQ7T3",
    "outputId": "2cb7f406-ef3c-40dc-819b-e67f272d88e9"
   },
   "outputs": [
    {
     "data": {
      "text/plain": [
       "array([[1, 2, 3, 1, 2, 3],\n",
       "       [4, 5, 6, 4, 5, 6]])"
      ]
     },
     "execution_count": 66,
     "metadata": {
      "tags": []
     },
     "output_type": "execute_result"
    }
   ],
   "source": [
    "np.concatenate([grid, a], axis = 1)"
   ]
  },
  {
   "cell_type": "code",
   "execution_count": 67,
   "metadata": {
    "colab": {
     "base_uri": "https://localhost:8080/"
    },
    "executionInfo": {
     "elapsed": 4338,
     "status": "ok",
     "timestamp": 1609241467361,
     "user": {
      "displayName": "蔡旻翰",
      "photoUrl": "",
      "userId": "02226921560577958845"
     },
     "user_tz": -480
    },
    "id": "VRi-mrDMQ7T4",
    "outputId": "ef7fca11-eb8a-4a0d-8b69-dcc18b817503"
   },
   "outputs": [
    {
     "data": {
      "text/plain": [
       "array([9, 8, 7, 6, 5, 4])"
      ]
     },
     "execution_count": 67,
     "metadata": {
      "tags": []
     },
     "output_type": "execute_result"
    }
   ],
   "source": [
    "#vstack 增加列合併\n",
    "x = np.array([1, 2, 3])\n",
    "grid = np.arange(4, 10)\n",
    "grid = grid[::-1]\n",
    "grid"
   ]
  },
  {
   "cell_type": "code",
   "execution_count": 68,
   "metadata": {
    "colab": {
     "base_uri": "https://localhost:8080/"
    },
    "executionInfo": {
     "elapsed": 4320,
     "status": "ok",
     "timestamp": 1609241467362,
     "user": {
      "displayName": "蔡旻翰",
      "photoUrl": "",
      "userId": "02226921560577958845"
     },
     "user_tz": -480
    },
    "id": "4xjdBfl-Q7T4",
    "outputId": "4c034fab-b6b0-4254-b662-c1fb65dedfeb"
   },
   "outputs": [
    {
     "data": {
      "text/plain": [
       "array([1, 2, 3])"
      ]
     },
     "execution_count": 68,
     "metadata": {
      "tags": []
     },
     "output_type": "execute_result"
    }
   ],
   "source": [
    "grid = grid.reshape((2, 3))\n",
    "x"
   ]
  },
  {
   "cell_type": "code",
   "execution_count": 69,
   "metadata": {
    "colab": {
     "base_uri": "https://localhost:8080/"
    },
    "executionInfo": {
     "elapsed": 4304,
     "status": "ok",
     "timestamp": 1609241467363,
     "user": {
      "displayName": "蔡旻翰",
      "photoUrl": "",
      "userId": "02226921560577958845"
     },
     "user_tz": -480
    },
    "id": "A67CGAG0Q7T4",
    "outputId": "58019203-0723-414a-d1c5-04fa5a7c98fe"
   },
   "outputs": [
    {
     "data": {
      "text/plain": [
       "array([[1, 2, 3],\n",
       "       [9, 8, 7],\n",
       "       [6, 5, 4]])"
      ]
     },
     "execution_count": 69,
     "metadata": {
      "tags": []
     },
     "output_type": "execute_result"
    }
   ],
   "source": [
    "np.vstack([x, grid])"
   ]
  },
  {
   "cell_type": "code",
   "execution_count": 70,
   "metadata": {
    "executionInfo": {
     "elapsed": 4299,
     "status": "ok",
     "timestamp": 1609241467363,
     "user": {
      "displayName": "蔡旻翰",
      "photoUrl": "",
      "userId": "02226921560577958845"
     },
     "user_tz": -480
    },
    "id": "55uQNGcjQ7T7"
   },
   "outputs": [],
   "source": [
    "y = np.full(2, 99).reshape((2, 1))"
   ]
  },
  {
   "cell_type": "code",
   "execution_count": 71,
   "metadata": {
    "colab": {
     "base_uri": "https://localhost:8080/"
    },
    "executionInfo": {
     "elapsed": 4280,
     "status": "ok",
     "timestamp": 1609241467364,
     "user": {
      "displayName": "蔡旻翰",
      "photoUrl": "",
      "userId": "02226921560577958845"
     },
     "user_tz": -480
    },
    "id": "N-8ESKiaQ7T-",
    "outputId": "a297b13c-8ff7-4737-e865-45ccd8525a7c"
   },
   "outputs": [
    {
     "data": {
      "text/plain": [
       "array([[ 9,  8,  7, 99],\n",
       "       [ 6,  5,  4, 99]])"
      ]
     },
     "execution_count": 71,
     "metadata": {
      "tags": []
     },
     "output_type": "execute_result"
    }
   ],
   "source": [
    "#增加欄合併\n",
    "np.hstack([grid, y])"
   ]
  },
  {
   "cell_type": "code",
   "execution_count": 72,
   "metadata": {
    "executionInfo": {
     "elapsed": 4274,
     "status": "ok",
     "timestamp": 1609241467364,
     "user": {
      "displayName": "蔡旻翰",
      "photoUrl": "",
      "userId": "02226921560577958845"
     },
     "user_tz": -480
    },
    "id": "8cWwAZG2Q7UB"
   },
   "outputs": [],
   "source": [
    "#np.split 分割\n",
    "x = [1, 2, 3, 99, 99, 3, 2, 1]\n",
    "x1, x2, x3 = np.split(x, [3, 5])"
   ]
  },
  {
   "cell_type": "code",
   "execution_count": 73,
   "metadata": {
    "colab": {
     "base_uri": "https://localhost:8080/"
    },
    "executionInfo": {
     "elapsed": 4254,
     "status": "ok",
     "timestamp": 1609241467365,
     "user": {
      "displayName": "蔡旻翰",
      "photoUrl": "",
      "userId": "02226921560577958845"
     },
     "user_tz": -480
    },
    "id": "YlHNP3OLQ7UC",
    "outputId": "4e8ae51d-e9af-49e7-e9f7-639652fea0d3"
   },
   "outputs": [
    {
     "name": "stdout",
     "output_type": "stream",
     "text": [
      "[1 2 3] [99 99] [3 2 1]\n"
     ]
    }
   ],
   "source": [
    "print(x1, x2, x3)"
   ]
  },
  {
   "cell_type": "code",
   "execution_count": 74,
   "metadata": {
    "colab": {
     "base_uri": "https://localhost:8080/"
    },
    "executionInfo": {
     "elapsed": 4238,
     "status": "ok",
     "timestamp": 1609241467366,
     "user": {
      "displayName": "蔡旻翰",
      "photoUrl": "",
      "userId": "02226921560577958845"
     },
     "user_tz": -480
    },
    "id": "uEr0JvW0Q7UC",
    "outputId": "73cc2ef8-cbf3-427e-b4c9-054e75d46770"
   },
   "outputs": [
    {
     "name": "stdout",
     "output_type": "stream",
     "text": [
      "[[0 1 2 3]\n",
      " [4 5 6 7]]\n"
     ]
    }
   ],
   "source": [
    "#上下分割 vsplit\n",
    "grid = np.arange(16).reshape((4, 4))\n",
    "upper, lower = np.vsplit(grid,[2])\n",
    "print(upper)"
   ]
  },
  {
   "cell_type": "code",
   "execution_count": 75,
   "metadata": {
    "colab": {
     "base_uri": "https://localhost:8080/"
    },
    "executionInfo": {
     "elapsed": 4226,
     "status": "ok",
     "timestamp": 1609241467367,
     "user": {
      "displayName": "蔡旻翰",
      "photoUrl": "",
      "userId": "02226921560577958845"
     },
     "user_tz": -480
    },
    "id": "0a6MO-6gQ7UD",
    "outputId": "90b3faf7-4319-4549-f0a5-16c39157ec11"
   },
   "outputs": [
    {
     "name": "stdout",
     "output_type": "stream",
     "text": [
      "[[ 8  9 10 11]\n",
      " [12 13 14 15]]\n"
     ]
    }
   ],
   "source": [
    "print(lower)"
   ]
  },
  {
   "cell_type": "code",
   "execution_count": 76,
   "metadata": {
    "colab": {
     "base_uri": "https://localhost:8080/"
    },
    "executionInfo": {
     "elapsed": 4214,
     "status": "ok",
     "timestamp": 1609241467367,
     "user": {
      "displayName": "蔡旻翰",
      "photoUrl": "",
      "userId": "02226921560577958845"
     },
     "user_tz": -480
    },
    "id": "BabVcagEQ7UD",
    "outputId": "1a2fda83-b275-4f5e-8588-8cc9d623436e"
   },
   "outputs": [
    {
     "name": "stdout",
     "output_type": "stream",
     "text": [
      "[[ 0  1  2  3]\n",
      " [ 4  5  6  7]\n",
      " [ 8  9 10 11]]\n",
      "\n",
      "[[12 13 14 15]]\n"
     ]
    }
   ],
   "source": [
    "upper, lower = np.vsplit(grid,[3])\n",
    "print(upper)\n",
    "print()\n",
    "print(lower)"
   ]
  },
  {
   "cell_type": "code",
   "execution_count": 77,
   "metadata": {
    "colab": {
     "base_uri": "https://localhost:8080/"
    },
    "executionInfo": {
     "elapsed": 4203,
     "status": "ok",
     "timestamp": 1609241467368,
     "user": {
      "displayName": "蔡旻翰",
      "photoUrl": "",
      "userId": "02226921560577958845"
     },
     "user_tz": -480
    },
    "id": "dJKDr-_YQ7UD",
    "outputId": "1726fa3e-15f7-4f29-97d2-24b4ff27f19a"
   },
   "outputs": [
    {
     "name": "stdout",
     "output_type": "stream",
     "text": [
      "[[0 1 2 3]]\n",
      "\n",
      "[[ 4  5  6  7]\n",
      " [ 8  9 10 11]\n",
      " [12 13 14 15]]\n"
     ]
    }
   ],
   "source": [
    "upper, lower = np.vsplit(grid,[1])\n",
    "print(upper)\n",
    "print()\n",
    "print(lower)"
   ]
  },
  {
   "cell_type": "code",
   "execution_count": 78,
   "metadata": {
    "colab": {
     "base_uri": "https://localhost:8080/"
    },
    "executionInfo": {
     "elapsed": 4184,
     "status": "ok",
     "timestamp": 1609241467368,
     "user": {
      "displayName": "蔡旻翰",
      "photoUrl": "",
      "userId": "02226921560577958845"
     },
     "user_tz": -480
    },
    "id": "I6_xkPQqQ7UE",
    "outputId": "4775319f-427a-4aa7-f5ed-dc3a4f032118"
   },
   "outputs": [
    {
     "name": "stdout",
     "output_type": "stream",
     "text": [
      "[[ 0  1]\n",
      " [ 4  5]\n",
      " [ 8  9]\n",
      " [12 13]]\n",
      "\n",
      "[[ 2  3]\n",
      " [ 6  7]\n",
      " [10 11]\n",
      " [14 15]]\n"
     ]
    }
   ],
   "source": [
    "#np.hsplit 左右分割\n",
    "left, right = np.hsplit(grid,[2])\n",
    "print(left)\n",
    "print()\n",
    "print(right)"
   ]
  },
  {
   "cell_type": "code",
   "execution_count": 79,
   "metadata": {
    "colab": {
     "base_uri": "https://localhost:8080/"
    },
    "executionInfo": {
     "elapsed": 4173,
     "status": "ok",
     "timestamp": 1609241467369,
     "user": {
      "displayName": "蔡旻翰",
      "photoUrl": "",
      "userId": "02226921560577958845"
     },
     "user_tz": -480
    },
    "id": "r9pxVg_5Q7UG",
    "outputId": "0aa5839d-fd36-4cfb-8e38-feda7f15fd6b"
   },
   "outputs": [
    {
     "name": "stdout",
     "output_type": "stream",
     "text": [
      "[[ 0]\n",
      " [ 4]\n",
      " [ 8]\n",
      " [12]]\n",
      "\n",
      "[[ 1  2  3]\n",
      " [ 5  6  7]\n",
      " [ 9 10 11]\n",
      " [13 14 15]]\n"
     ]
    }
   ],
   "source": [
    "left, right = np.hsplit(grid,[1])\n",
    "print(left)\n",
    "print()\n",
    "print(right)"
   ]
  },
  {
   "cell_type": "code",
   "execution_count": 80,
   "metadata": {
    "colab": {
     "base_uri": "https://localhost:8080/"
    },
    "executionInfo": {
     "elapsed": 4163,
     "status": "ok",
     "timestamp": 1609241467370,
     "user": {
      "displayName": "蔡旻翰",
      "photoUrl": "",
      "userId": "02226921560577958845"
     },
     "user_tz": -480
    },
    "id": "5mzGBNM_Q7UH",
    "outputId": "82546225-f715-484e-c469-de1355b7aa3f"
   },
   "outputs": [
    {
     "name": "stdout",
     "output_type": "stream",
     "text": [
      "[6 1 4 4 8]\n"
     ]
    },
    {
     "data": {
      "text/plain": [
       "array([0.16666667, 1.        , 0.25      , 0.25      , 0.125     ])"
      ]
     },
     "execution_count": 80,
     "metadata": {
      "tags": []
     },
     "output_type": "execute_result"
    }
   ],
   "source": [
    "import numpy as np\n",
    "np.random.seed(0)\n",
    "\n",
    "def compute_reciprocals(values):\n",
    "    output = np.empty(len(values))\n",
    "    for i in range(len(values)):\n",
    "        output[i] = 1.0 / values[i]\n",
    "    return output\n",
    "        \n",
    "values = np.random.randint(1, 10, size=5)\n",
    "print(values)\n",
    "compute_reciprocals(values)"
   ]
  },
  {
   "cell_type": "code",
   "execution_count": 81,
   "metadata": {
    "colab": {
     "base_uri": "https://localhost:8080/"
    },
    "executionInfo": {
     "elapsed": 4152,
     "status": "ok",
     "timestamp": 1609241467370,
     "user": {
      "displayName": "蔡旻翰",
      "photoUrl": "",
      "userId": "02226921560577958845"
     },
     "user_tz": -480
    },
    "id": "ZEZ4KW_1Q7UH",
    "outputId": "207a5222-2cd3-4c3a-c625-cbeea2c64561"
   },
   "outputs": [
    {
     "data": {
      "text/plain": [
       "array([0.        , 0.5       , 0.66666667, 0.75      , 0.8       ])"
      ]
     },
     "execution_count": 81,
     "metadata": {
      "tags": []
     },
     "output_type": "execute_result"
    }
   ],
   "source": [
    "np.arange(5) / np.arange(1, 6)"
   ]
  },
  {
   "cell_type": "code",
   "execution_count": 82,
   "metadata": {
    "colab": {
     "base_uri": "https://localhost:8080/"
    },
    "executionInfo": {
     "elapsed": 4141,
     "status": "ok",
     "timestamp": 1609241467371,
     "user": {
      "displayName": "蔡旻翰",
      "photoUrl": "",
      "userId": "02226921560577958845"
     },
     "user_tz": -480
    },
    "id": "L1g1iDCFQ7UM",
    "outputId": "4258b9d8-1938-4ccb-9b79-e753f899bb00"
   },
   "outputs": [
    {
     "data": {
      "text/plain": [
       "array([[  1,   2,   4],\n",
       "       [  8,  16,  32],\n",
       "       [ 64, 128, 256]])"
      ]
     },
     "execution_count": 82,
     "metadata": {
      "tags": []
     },
     "output_type": "execute_result"
    }
   ],
   "source": [
    "x = np.arange(9).reshape((3, 3))\n",
    "2 ** x"
   ]
  },
  {
   "cell_type": "code",
   "execution_count": 83,
   "metadata": {
    "colab": {
     "base_uri": "https://localhost:8080/"
    },
    "executionInfo": {
     "elapsed": 4131,
     "status": "ok",
     "timestamp": 1609241467372,
     "user": {
      "displayName": "蔡旻翰",
      "photoUrl": "",
      "userId": "02226921560577958845"
     },
     "user_tz": -480
    },
    "id": "eHjji-ohQ7UP",
    "outputId": "39eba903-f3d0-4036-b63a-fc6eecce6d47"
   },
   "outputs": [
    {
     "data": {
      "text/plain": [
       "array([2, 3, 4, 5])"
      ]
     },
     "execution_count": 83,
     "metadata": {
      "tags": []
     },
     "output_type": "execute_result"
    }
   ],
   "source": [
    "x = np.arange(4)\n",
    "x + 2"
   ]
  },
  {
   "cell_type": "code",
   "execution_count": 84,
   "metadata": {
    "colab": {
     "base_uri": "https://localhost:8080/"
    },
    "executionInfo": {
     "elapsed": 5011,
     "status": "ok",
     "timestamp": 1609241468264,
     "user": {
      "displayName": "蔡旻翰",
      "photoUrl": "",
      "userId": "02226921560577958845"
     },
     "user_tz": -480
    },
    "id": "50qXWvnZQ7UQ",
    "outputId": "a5edb888-b68e-4cb5-d112-5605bb025db3"
   },
   "outputs": [
    {
     "data": {
      "text/plain": [
       "array([-2, -1,  0,  1])"
      ]
     },
     "execution_count": 84,
     "metadata": {
      "tags": []
     },
     "output_type": "execute_result"
    }
   ],
   "source": [
    "x - 2"
   ]
  },
  {
   "cell_type": "code",
   "execution_count": 85,
   "metadata": {
    "colab": {
     "base_uri": "https://localhost:8080/"
    },
    "executionInfo": {
     "elapsed": 4997,
     "status": "ok",
     "timestamp": 1609241468264,
     "user": {
      "displayName": "蔡旻翰",
      "photoUrl": "",
      "userId": "02226921560577958845"
     },
     "user_tz": -480
    },
    "id": "jIf5Wjb9Q7UR",
    "outputId": "88d438dc-e4c8-4530-c087-0301f517b5a3"
   },
   "outputs": [
    {
     "data": {
      "text/plain": [
       "array([0, 2, 4, 6])"
      ]
     },
     "execution_count": 85,
     "metadata": {
      "tags": []
     },
     "output_type": "execute_result"
    }
   ],
   "source": [
    "x * 2\n"
   ]
  },
  {
   "cell_type": "code",
   "execution_count": 86,
   "metadata": {
    "colab": {
     "base_uri": "https://localhost:8080/"
    },
    "executionInfo": {
     "elapsed": 4987,
     "status": "ok",
     "timestamp": 1609241468265,
     "user": {
      "displayName": "蔡旻翰",
      "photoUrl": "",
      "userId": "02226921560577958845"
     },
     "user_tz": -480
    },
    "id": "aCanetz1Q7US",
    "outputId": "55dec9f0-e6ed-4a0d-c186-33451795e939"
   },
   "outputs": [
    {
     "data": {
      "text/plain": [
       "array([1, 2, 0, 1, 2])"
      ]
     },
     "execution_count": 86,
     "metadata": {
      "tags": []
     },
     "output_type": "execute_result"
    }
   ],
   "source": [
    "x = np.array([1, 2, 0, -1, -2])\n",
    "np.abs(x)"
   ]
  },
  {
   "cell_type": "code",
   "execution_count": 87,
   "metadata": {
    "colab": {
     "base_uri": "https://localhost:8080/"
    },
    "executionInfo": {
     "elapsed": 4977,
     "status": "ok",
     "timestamp": 1609241468266,
     "user": {
      "displayName": "蔡旻翰",
      "photoUrl": "",
      "userId": "02226921560577958845"
     },
     "user_tz": -480
    },
    "id": "wk8UfjTJQ7US",
    "outputId": "eae8f422-45a0-4ec7-c383-2432e19f4d45"
   },
   "outputs": [
    {
     "data": {
      "text/plain": [
       "array([1, 2, 0, 1, 2])"
      ]
     },
     "execution_count": 87,
     "metadata": {
      "tags": []
     },
     "output_type": "execute_result"
    }
   ],
   "source": [
    "abs(x)\n"
   ]
  },
  {
   "cell_type": "code",
   "execution_count": 88,
   "metadata": {
    "executionInfo": {
     "elapsed": 4975,
     "status": "ok",
     "timestamp": 1609241468266,
     "user": {
      "displayName": "蔡旻翰",
      "photoUrl": "",
      "userId": "02226921560577958845"
     },
     "user_tz": -480
    },
    "id": "a9sC0zGAQ7UT"
   },
   "outputs": [],
   "source": [
    "theta = np.linspace(0, np.pi, 3)\n"
   ]
  },
  {
   "cell_type": "code",
   "execution_count": 89,
   "metadata": {
    "colab": {
     "base_uri": "https://localhost:8080/"
    },
    "executionInfo": {
     "elapsed": 4965,
     "status": "ok",
     "timestamp": 1609241468267,
     "user": {
      "displayName": "蔡旻翰",
      "photoUrl": "",
      "userId": "02226921560577958845"
     },
     "user_tz": -480
    },
    "id": "0uX546-EQ7UU",
    "outputId": "b1612e35-b7ec-4e2b-cb89-c3ae93749015"
   },
   "outputs": [
    {
     "name": "stdout",
     "output_type": "stream",
     "text": [
      "theta      =  [0.         1.57079633 3.14159265]\n",
      "sin(theta) =  [0.0000000e+00 1.0000000e+00 1.2246468e-16]\n",
      "cos(theta) =  [ 1.000000e+00  6.123234e-17 -1.000000e+00]\n",
      "tan(theta) =  [ 0.00000000e+00  1.63312394e+16 -1.22464680e-16]\n"
     ]
    }
   ],
   "source": [
    "\n",
    "print(\"theta      = \", theta)\n",
    "print(\"sin(theta) = \", np.sin(theta))\n",
    "print(\"cos(theta) = \", np.cos(theta))\n",
    "print(\"tan(theta) = \", np.tan(theta))"
   ]
  },
  {
   "cell_type": "code",
   "execution_count": 90,
   "metadata": {
    "colab": {
     "base_uri": "https://localhost:8080/"
    },
    "executionInfo": {
     "elapsed": 4954,
     "status": "ok",
     "timestamp": 1609241468267,
     "user": {
      "displayName": "蔡旻翰",
      "photoUrl": "",
      "userId": "02226921560577958845"
     },
     "user_tz": -480
    },
    "id": "DllFUhWLQ7UU",
    "outputId": "21fe7586-85e9-444d-981f-36b617c3a999"
   },
   "outputs": [
    {
     "name": "stdout",
     "output_type": "stream",
     "text": [
      "x         =  [-1, 0, 1]\n",
      "arcsin(x) =  [-1.57079633  0.          1.57079633]\n",
      "arccos(x) =  [3.14159265 1.57079633 0.        ]\n",
      "arctan(x) =  [-0.78539816  0.          0.78539816]\n"
     ]
    }
   ],
   "source": [
    "x = [-1, 0, 1]\n",
    "print(\"x         = \", x)\n",
    "print(\"arcsin(x) = \", np.arcsin(x))\n",
    "print(\"arccos(x) = \", np.arccos(x))\n",
    "print(\"arctan(x) = \", np.arctan(x))"
   ]
  },
  {
   "cell_type": "code",
   "execution_count": 91,
   "metadata": {
    "colab": {
     "base_uri": "https://localhost:8080/"
    },
    "executionInfo": {
     "elapsed": 4944,
     "status": "ok",
     "timestamp": 1609241468268,
     "user": {
      "displayName": "蔡旻翰",
      "photoUrl": "",
      "userId": "02226921560577958845"
     },
     "user_tz": -480
    },
    "id": "E7Ff7Qo9Q7UV",
    "outputId": "feb8edba-36e0-4327-900f-9236e583e337"
   },
   "outputs": [
    {
     "name": "stdout",
     "output_type": "stream",
     "text": [
      "x     = [1, 2, 3]\n",
      "e^x   = [ 2.71828183  7.3890561  20.08553692]\n",
      "2^x   = [2. 4. 8.]\n",
      "3^x   = [ 3  9 27]\n"
     ]
    }
   ],
   "source": [
    "x = [1, 2, 3]\n",
    "print(\"x     =\", x)\n",
    "print(\"e^x   =\", np.exp(x))\n",
    "print(\"2^x   =\", np.exp2(x))\n",
    "print(\"3^x   =\", np.power(3, x))"
   ]
  },
  {
   "cell_type": "code",
   "execution_count": 92,
   "metadata": {
    "colab": {
     "base_uri": "https://localhost:8080/"
    },
    "executionInfo": {
     "elapsed": 4934,
     "status": "ok",
     "timestamp": 1609241468269,
     "user": {
      "displayName": "蔡旻翰",
      "photoUrl": "",
      "userId": "02226921560577958845"
     },
     "user_tz": -480
    },
    "id": "x_s9Bc5yQ7UW",
    "outputId": "6357b12b-10f3-4d7a-f881-12632bbaef60"
   },
   "outputs": [
    {
     "name": "stdout",
     "output_type": "stream",
     "text": [
      "x        = [1, 2, 4, 10]\n",
      "ln(x)    = [0.         0.69314718 1.38629436 2.30258509]\n",
      "log2(x)  = [0.         1.         2.         3.32192809]\n",
      "log10(x) = [0.         0.30103    0.60205999 1.        ]\n"
     ]
    }
   ],
   "source": [
    "x = [1, 2, 4, 10]\n",
    "print(\"x        =\", x)\n",
    "print(\"ln(x)    =\", np.log(x))\n",
    "print(\"log2(x)  =\", np.log2(x))\n",
    "print(\"log10(x) =\", np.log10(x))"
   ]
  },
  {
   "cell_type": "code",
   "execution_count": 93,
   "metadata": {
    "colab": {
     "base_uri": "https://localhost:8080/"
    },
    "executionInfo": {
     "elapsed": 4924,
     "status": "ok",
     "timestamp": 1609241468270,
     "user": {
      "displayName": "蔡旻翰",
      "photoUrl": "",
      "userId": "02226921560577958845"
     },
     "user_tz": -480
    },
    "id": "9TrLhGsNQ7UW",
    "outputId": "78de7e01-34d8-4acd-b7e2-8a6db9cbd8f8"
   },
   "outputs": [
    {
     "name": "stdout",
     "output_type": "stream",
     "text": [
      "exp(x) - 1 = [0.         0.0010005  0.01005017 0.10517092]\n",
      "log(1 + x) = [0.         0.0009995  0.00995033 0.09531018]\n"
     ]
    }
   ],
   "source": [
    "x = [0, 0.001, 0.01, 0.1]\n",
    "print(\"exp(x) - 1 =\", np.expm1(x))\n",
    "print(\"log(1 + x) =\", np.log1p(x))"
   ]
  },
  {
   "cell_type": "code",
   "execution_count": 94,
   "metadata": {
    "executionInfo": {
     "elapsed": 4922,
     "status": "ok",
     "timestamp": 1609241468271,
     "user": {
      "displayName": "蔡旻翰",
      "photoUrl": "",
      "userId": "02226921560577958845"
     },
     "user_tz": -480
    },
    "id": "L2PKMLAmQ7UX"
   },
   "outputs": [],
   "source": [
    "from scipy import special"
   ]
  },
  {
   "cell_type": "code",
   "execution_count": 95,
   "metadata": {
    "colab": {
     "base_uri": "https://localhost:8080/"
    },
    "executionInfo": {
     "elapsed": 4913,
     "status": "ok",
     "timestamp": 1609241468272,
     "user": {
      "displayName": "蔡旻翰",
      "photoUrl": "",
      "userId": "02226921560577958845"
     },
     "user_tz": -480
    },
    "id": "nh6jH-awQ7UY",
    "outputId": "64306781-44e4-4c77-80be-df0e7cd93f69"
   },
   "outputs": [
    {
     "name": "stdout",
     "output_type": "stream",
     "text": [
      "gamma(x)     = [1.0000e+00 2.4000e+01 3.6288e+05]\n",
      "ln|gamma(x)| = [ 0.          3.17805383 12.80182748]\n",
      "beta(x, 2)   = [0.5        0.03333333 0.00909091]\n"
     ]
    }
   ],
   "source": [
    "# Gamma functions (generalized factorials) and related functions\n",
    "x = [1, 5, 10]\n",
    "print(\"gamma(x)     =\", special.gamma(x))\n",
    "print(\"ln|gamma(x)| =\", special.gammaln(x))\n",
    "print(\"beta(x, 2)   =\", special.beta(x, 2))"
   ]
  },
  {
   "cell_type": "code",
   "execution_count": 96,
   "metadata": {
    "colab": {
     "base_uri": "https://localhost:8080/"
    },
    "executionInfo": {
     "elapsed": 4904,
     "status": "ok",
     "timestamp": 1609241468275,
     "user": {
      "displayName": "蔡旻翰",
      "photoUrl": "",
      "userId": "02226921560577958845"
     },
     "user_tz": -480
    },
    "id": "0QiT93D2Q7UY",
    "outputId": "304d328c-46b0-4679-deac-d7c259439bf9"
   },
   "outputs": [
    {
     "name": "stdout",
     "output_type": "stream",
     "text": [
      "erf(x)  = [0.         0.32862676 0.67780119 0.84270079]\n",
      "erfc(x) = [1.         0.67137324 0.32219881 0.15729921]\n",
      "erfinv(x) = [0.         0.27246271 0.73286908        inf]\n"
     ]
    }
   ],
   "source": [
    "# Error function (integral of Gaussian)\n",
    "# its complement, and its inverse\n",
    "x = np.array([0, 0.3, 0.7, 1.0])\n",
    "print(\"erf(x)  =\", special.erf(x))\n",
    "print(\"erfc(x) =\", special.erfc(x))\n",
    "print(\"erfinv(x) =\", special.erfinv(x))"
   ]
  },
  {
   "cell_type": "code",
   "execution_count": 97,
   "metadata": {
    "colab": {
     "base_uri": "https://localhost:8080/"
    },
    "executionInfo": {
     "elapsed": 4894,
     "status": "ok",
     "timestamp": 1609241468276,
     "user": {
      "displayName": "蔡旻翰",
      "photoUrl": "",
      "userId": "02226921560577958845"
     },
     "user_tz": -480
    },
    "id": "ZKLTMAAoQ7UZ",
    "outputId": "69832240-11b7-4712-9d58-e73c19b4f9d7"
   },
   "outputs": [
    {
     "name": "stdout",
     "output_type": "stream",
     "text": [
      "[ 0. 10. 20. 30. 40.]\n"
     ]
    }
   ],
   "source": [
    "\n",
    "x = np.arange(5)\n",
    "y = np.empty(5)\n",
    "np.multiply(x, 10, out=y)\n",
    "print(y)"
   ]
  },
  {
   "cell_type": "code",
   "execution_count": 98,
   "metadata": {
    "colab": {
     "base_uri": "https://localhost:8080/"
    },
    "executionInfo": {
     "elapsed": 4884,
     "status": "ok",
     "timestamp": 1609241468277,
     "user": {
      "displayName": "蔡旻翰",
      "photoUrl": "",
      "userId": "02226921560577958845"
     },
     "user_tz": -480
    },
    "id": "LbCZ0y1EQ7Ua",
    "outputId": "13837c5a-7deb-42ea-cce1-6acc13d2d771"
   },
   "outputs": [
    {
     "name": "stdout",
     "output_type": "stream",
     "text": [
      "[ 1.  0.  2.  0.  4.  0.  8.  0. 16.  0.]\n"
     ]
    }
   ],
   "source": [
    "\n",
    "y = np.zeros(10)\n",
    "np.power(2, x, out=y[::2])\n",
    "print(y)"
   ]
  },
  {
   "cell_type": "code",
   "execution_count": 99,
   "metadata": {
    "colab": {
     "base_uri": "https://localhost:8080/"
    },
    "executionInfo": {
     "elapsed": 4875,
     "status": "ok",
     "timestamp": 1609241468278,
     "user": {
      "displayName": "蔡旻翰",
      "photoUrl": "",
      "userId": "02226921560577958845"
     },
     "user_tz": -480
    },
    "id": "yOKXmZiZQ7Ua",
    "outputId": "fe772b31-323f-4298-ad24-2a6a3b1fb47c"
   },
   "outputs": [
    {
     "data": {
      "text/plain": [
       "15"
      ]
     },
     "execution_count": 99,
     "metadata": {
      "tags": []
     },
     "output_type": "execute_result"
    }
   ],
   "source": [
    "#數組內相加\n",
    "x = np.arange(1, 6)\n",
    "np.add.reduce(x)"
   ]
  },
  {
   "cell_type": "code",
   "execution_count": 100,
   "metadata": {
    "colab": {
     "base_uri": "https://localhost:8080/"
    },
    "executionInfo": {
     "elapsed": 4862,
     "status": "ok",
     "timestamp": 1609241468278,
     "user": {
      "displayName": "蔡旻翰",
      "photoUrl": "",
      "userId": "02226921560577958845"
     },
     "user_tz": -480
    },
    "id": "EZr2zi0nQ7Ub",
    "outputId": "d372b0bb-09b1-45d0-abc3-24dac1baa65d"
   },
   "outputs": [
    {
     "data": {
      "text/plain": [
       "120"
      ]
     },
     "execution_count": 100,
     "metadata": {
      "tags": []
     },
     "output_type": "execute_result"
    }
   ],
   "source": [
    "np.multiply.reduce(x)"
   ]
  },
  {
   "cell_type": "code",
   "execution_count": 101,
   "metadata": {
    "colab": {
     "base_uri": "https://localhost:8080/"
    },
    "executionInfo": {
     "elapsed": 4849,
     "status": "ok",
     "timestamp": 1609241468279,
     "user": {
      "displayName": "蔡旻翰",
      "photoUrl": "",
      "userId": "02226921560577958845"
     },
     "user_tz": -480
    },
    "id": "Vdwp1jLsQ7Uc",
    "outputId": "1a22c0fc-8011-4d3a-ed9e-45484b34fbc6"
   },
   "outputs": [
    {
     "data": {
      "text/plain": [
       "array([ 1,  3,  6, 10, 15])"
      ]
     },
     "execution_count": 101,
     "metadata": {
      "tags": []
     },
     "output_type": "execute_result"
    }
   ],
   "source": [
    "#數組累加\n",
    "np.add.accumulate(x)"
   ]
  },
  {
   "cell_type": "code",
   "execution_count": 102,
   "metadata": {
    "colab": {
     "base_uri": "https://localhost:8080/"
    },
    "executionInfo": {
     "elapsed": 4832,
     "status": "ok",
     "timestamp": 1609241468279,
     "user": {
      "displayName": "蔡旻翰",
      "photoUrl": "",
      "userId": "02226921560577958845"
     },
     "user_tz": -480
    },
    "id": "hLtYZBuhQ7Ue",
    "outputId": "f961d266-b445-4ec4-91de-a3da385fb374",
    "scrolled": true
   },
   "outputs": [
    {
     "data": {
      "text/plain": [
       "array([  1,   2,   6,  24, 120])"
      ]
     },
     "execution_count": 102,
     "metadata": {
      "tags": []
     },
     "output_type": "execute_result"
    }
   ],
   "source": [
    "np.multiply.accumulate(x)\n"
   ]
  },
  {
   "cell_type": "code",
   "execution_count": 103,
   "metadata": {
    "colab": {
     "base_uri": "https://localhost:8080/"
    },
    "executionInfo": {
     "elapsed": 4815,
     "status": "ok",
     "timestamp": 1609241468280,
     "user": {
      "displayName": "蔡旻翰",
      "photoUrl": "",
      "userId": "02226921560577958845"
     },
     "user_tz": -480
    },
    "id": "imGJDb95Q7Uf",
    "outputId": "70c7f223-d3a7-48fd-c326-f9722f84bab4"
   },
   "outputs": [
    {
     "data": {
      "text/plain": [
       "array([[ 1,  2,  3,  4,  5],\n",
       "       [ 2,  4,  6,  8, 10],\n",
       "       [ 3,  6,  9, 12, 15],\n",
       "       [ 4,  8, 12, 16, 20],\n",
       "       [ 5, 10, 15, 20, 25]])"
      ]
     },
     "execution_count": 103,
     "metadata": {
      "tags": []
     },
     "output_type": "execute_result"
    }
   ],
   "source": [
    "\n",
    "x = np.arange(1, 6)\n",
    "np.multiply.outer(x, x)"
   ]
  },
  {
   "cell_type": "code",
   "execution_count": 105,
   "metadata": {
    "colab": {
     "base_uri": "https://localhost:8080/"
    },
    "executionInfo": {
     "elapsed": 654,
     "status": "ok",
     "timestamp": 1609241693485,
     "user": {
      "displayName": "蔡旻翰",
      "photoUrl": "",
      "userId": "02226921560577958845"
     },
     "user_tz": -480
    },
    "id": "qtui5dsdQ7Uf",
    "outputId": "e16303c4-2420-4941-bc3b-fd20ed9dc746"
   },
   "outputs": [
    {
     "data": {
      "text/plain": [
       "array([2.10715284, 2.13845179, 1.38907329])"
      ]
     },
     "execution_count": 105,
     "metadata": {
      "tags": []
     },
     "output_type": "execute_result"
    }
   ],
   "source": [
    "L = np.random.random((3, 3))\n",
    "sum(L)"
   ]
  },
  {
   "cell_type": "code",
   "execution_count": 106,
   "metadata": {
    "colab": {
     "base_uri": "https://localhost:8080/"
    },
    "executionInfo": {
     "elapsed": 752,
     "status": "ok",
     "timestamp": 1609241738737,
     "user": {
      "displayName": "蔡旻翰",
      "photoUrl": "",
      "userId": "02226921560577958845"
     },
     "user_tz": -480
    },
    "id": "X2jPGM0IQ7Ug",
    "outputId": "dc46cb7e-d4cb-405c-9b6f-2890a66d1f7a"
   },
   "outputs": [
    {
     "data": {
      "text/plain": [
       "5.634677922706642"
      ]
     },
     "execution_count": 106,
     "metadata": {
      "tags": []
     },
     "output_type": "execute_result"
    }
   ],
   "source": [
    "np.sum(L)"
   ]
  },
  {
   "cell_type": "code",
   "execution_count": 107,
   "metadata": {
    "colab": {
     "base_uri": "https://localhost:8080/"
    },
    "executionInfo": {
     "elapsed": 9196,
     "status": "ok",
     "timestamp": 1609241799952,
     "user": {
      "displayName": "蔡旻翰",
      "photoUrl": "",
      "userId": "02226921560577958845"
     },
     "user_tz": -480
    },
    "id": "0UnMENmqSDo5",
    "outputId": "de9feedc-9577-4603-92d0-678772ddd1b8"
   },
   "outputs": [
    {
     "name": "stdout",
     "output_type": "stream",
     "text": [
      "10 loops, best of 3: 163 ms per loop\n",
      "1000 loops, best of 3: 361 µs per loop\n"
     ]
    }
   ],
   "source": [
    "big_array = np.random.rand(1000000)\n",
    "%timeit sum(big_array)\n",
    "%timeit np.sum(big_array)"
   ]
  },
  {
   "cell_type": "code",
   "execution_count": 108,
   "metadata": {
    "colab": {
     "base_uri": "https://localhost:8080/"
    },
    "executionInfo": {
     "elapsed": 890,
     "status": "ok",
     "timestamp": 1609241803964,
     "user": {
      "displayName": "蔡旻翰",
      "photoUrl": "",
      "userId": "02226921560577958845"
     },
     "user_tz": -480
    },
    "id": "7hOEMTNLSRu3",
    "outputId": "25985834-d3b9-4d40-aacd-4d969c946ad5"
   },
   "outputs": [
    {
     "data": {
      "text/plain": [
       "(7.071203171893359e-07, 0.9999997207656334)"
      ]
     },
     "execution_count": 108,
     "metadata": {
      "tags": []
     },
     "output_type": "execute_result"
    }
   ],
   "source": [
    "min(big_array), max(big_array)"
   ]
  },
  {
   "cell_type": "code",
   "execution_count": 109,
   "metadata": {
    "colab": {
     "base_uri": "https://localhost:8080/"
    },
    "executionInfo": {
     "elapsed": 736,
     "status": "ok",
     "timestamp": 1609241977937,
     "user": {
      "displayName": "蔡旻翰",
      "photoUrl": "",
      "userId": "02226921560577958845"
     },
     "user_tz": -480
    },
    "id": "1v7xxFKVSXA6",
    "outputId": "bba79aa0-eb72-4f55-ea0e-3838c8dc6d68"
   },
   "outputs": [
    {
     "data": {
      "text/plain": [
       "(7.071203171893359e-07, 0.9999997207656334)"
      ]
     },
     "execution_count": 109,
     "metadata": {
      "tags": []
     },
     "output_type": "execute_result"
    }
   ],
   "source": [
    "np.min(big_array), np.max(big_array)"
   ]
  },
  {
   "cell_type": "code",
   "execution_count": 111,
   "metadata": {
    "colab": {
     "base_uri": "https://localhost:8080/"
    },
    "executionInfo": {
     "elapsed": 6559,
     "status": "ok",
     "timestamp": 1609242015084,
     "user": {
      "displayName": "蔡旻翰",
      "photoUrl": "",
      "userId": "02226921560577958845"
     },
     "user_tz": -480
    },
    "id": "PPINYeUbSZmP",
    "outputId": "9ba4ff17-0615-4720-ac30-973f55b014cb"
   },
   "outputs": [
    {
     "name": "stdout",
     "output_type": "stream",
     "text": [
      "10 loops, best of 3: 98 ms per loop\n",
      "1000 loops, best of 3: 414 µs per loop\n"
     ]
    }
   ],
   "source": [
    "%timeit min(big_array)\n",
    "%timeit np.min(big_array)"
   ]
  },
  {
   "cell_type": "code",
   "execution_count": 114,
   "metadata": {
    "colab": {
     "base_uri": "https://localhost:8080/"
    },
    "executionInfo": {
     "elapsed": 777,
     "status": "ok",
     "timestamp": 1609242036594,
     "user": {
      "displayName": "蔡旻翰",
      "photoUrl": "",
      "userId": "02226921560577958845"
     },
     "user_tz": -480
    },
    "id": "gPy9Ikj_THi4",
    "outputId": "f27cda5a-7639-4af5-f32c-f5d32833fa9c"
   },
   "outputs": [
    {
     "name": "stdout",
     "output_type": "stream",
     "text": [
      "7.071203171893359e-07 0.9999997207656334 500386.369813543\n"
     ]
    }
   ],
   "source": [
    "print(big_array.min(), big_array.max(), big_array.sum())"
   ]
  },
  {
   "cell_type": "code",
   "execution_count": 1,
   "metadata": {
    "id": "2dsU-f5ZTMX6"
   },
   "outputs": [],
   "source": [
    "import numpy as np\n",
    "M = np.random.random((3, 4))"
   ]
  },
  {
   "cell_type": "code",
   "execution_count": 2,
   "metadata": {},
   "outputs": [
    {
     "name": "stdout",
     "output_type": "stream",
     "text": [
      "[[0.22212814 0.13142614 0.76063353 0.46089945]\n",
      " [0.44957391 0.63129611 0.49888875 0.19418427]\n",
      " [0.8850204  0.16196149 0.24188232 0.77707071]]\n"
     ]
    }
   ],
   "source": [
    "print(M)"
   ]
  },
  {
   "cell_type": "code",
   "execution_count": 3,
   "metadata": {},
   "outputs": [
    {
     "data": {
      "text/plain": [
       "5.414965228698794"
      ]
     },
     "execution_count": 3,
     "metadata": {},
     "output_type": "execute_result"
    }
   ],
   "source": [
    "M.sum()"
   ]
  },
  {
   "cell_type": "code",
   "execution_count": 5,
   "metadata": {},
   "outputs": [
    {
     "data": {
      "text/plain": [
       "array([0.22212814, 0.13142614, 0.24188232, 0.19418427])"
      ]
     },
     "execution_count": 5,
     "metadata": {},
     "output_type": "execute_result"
    }
   ],
   "source": [
    "M.min(axis = 0)"
   ]
  },
  {
   "cell_type": "code",
   "execution_count": 6,
   "metadata": {},
   "outputs": [
    {
     "data": {
      "text/plain": [
       "array([0.76063353, 0.63129611, 0.8850204 ])"
      ]
     },
     "execution_count": 6,
     "metadata": {},
     "output_type": "execute_result"
    }
   ],
   "source": [
    "M.max(axis = 1)"
   ]
  },
  {
   "cell_type": "code",
   "execution_count": 10,
   "metadata": {},
   "outputs": [
    {
     "name": "stdout",
     "output_type": "stream",
     "text": [
      "[189 170 189 163 183 171 185 168 173 183 173 173 175 178 183 193 178 173\n",
      " 174 183 183 168 170 178 182 180 183 178 182 188 175 179 183 193 182 183\n",
      " 177 185 188 188 182 185]\n"
     ]
    }
   ],
   "source": [
    "import pandas as pd\n",
    "data = pd.read_csv(r'C:\\Users\\NTPU\\Downloads\\data\\president_heights.csv')\n",
    "heights = np.array(data['height(cm)'])\n",
    "print(heights)"
   ]
  },
  {
   "cell_type": "code",
   "execution_count": 11,
   "metadata": {},
   "outputs": [
    {
     "name": "stdout",
     "output_type": "stream",
     "text": [
      "Mean height:        179.73809523809524\n",
      "Standard deviation: 6.931843442745892\n",
      "Minimum height:     163\n",
      "Maximum height:     193\n"
     ]
    }
   ],
   "source": [
    "#數組平均 最大 最小 標準差\n",
    "print(\"Mean height:       \", heights.mean())\n",
    "print(\"Standard deviation:\", heights.std())\n",
    "print(\"Minimum height:    \", heights.min())\n",
    "print(\"Maximum height:    \", heights.max())\n"
   ]
  },
  {
   "cell_type": "code",
   "execution_count": 12,
   "metadata": {},
   "outputs": [
    {
     "name": "stdout",
     "output_type": "stream",
     "text": [
      "25th percentile:    174.25\n",
      "Median:             182.0\n",
      "75th percentile:    183.0\n"
     ]
    }
   ],
   "source": [
    "#取百分比\n",
    "print(\"25th percentile:   \", np.percentile(heights, 25))\n",
    "print(\"Median:            \", np.median(heights))\n",
    "print(\"75th percentile:   \", np.percentile(heights, 75))"
   ]
  },
  {
   "cell_type": "code",
   "execution_count": 15,
   "metadata": {},
   "outputs": [],
   "source": [
    "%matplotlib inline\n",
    "import matplotlib.pyplot as plt\n",
    "import seaborn; seaborn.set()  # set plot style"
   ]
  },
  {
   "cell_type": "code",
   "execution_count": 16,
   "metadata": {},
   "outputs": [
    {
     "data": {
      "text/plain": [
       "Text(0,0.5,'number')"
      ]
     },
     "execution_count": 16,
     "metadata": {},
     "output_type": "execute_result"
    },
    {
     "data": {
      "image/png": "[encoded data removed]",
      "text/plain": [
       "<Figure size 432x288 with 1 Axes>"
      ]
     },
     "metadata": {},
     "output_type": "display_data"
    }
   ],
   "source": [
    "\n",
    "plt.hist(heights)\n",
    "plt.title('Height Distribution of US Presidents')\n",
    "plt.xlabel('height (cm)')\n",
    "plt.ylabel('number')"
   ]
  },
  {
   "cell_type": "code",
   "execution_count": 17,
   "metadata": {},
   "outputs": [
    {
     "data": {
      "text/plain": [
       "array([5, 6, 7])"
      ]
     },
     "execution_count": 17,
     "metadata": {},
     "output_type": "execute_result"
    }
   ],
   "source": [
    "a = np.array([0, 1, 2])\n",
    "b = np.array([5, 5, 5])\n",
    "a + b"
   ]
  },
  {
   "cell_type": "code",
   "execution_count": 18,
   "metadata": {},
   "outputs": [
    {
     "data": {
      "text/plain": [
       "array([5, 6, 7])"
      ]
     },
     "execution_count": 18,
     "metadata": {},
     "output_type": "execute_result"
    }
   ],
   "source": [
    "a + 5"
   ]
  },
  {
   "cell_type": "code",
   "execution_count": 19,
   "metadata": {},
   "outputs": [
    {
     "data": {
      "text/plain": [
       "array([[1., 1., 1.],\n",
       "       [1., 1., 1.],\n",
       "       [1., 1., 1.]])"
      ]
     },
     "execution_count": 19,
     "metadata": {},
     "output_type": "execute_result"
    }
   ],
   "source": [
    "M = np.ones((3, 3))\n",
    "M"
   ]
  },
  {
   "cell_type": "code",
   "execution_count": 20,
   "metadata": {},
   "outputs": [
    {
     "data": {
      "text/plain": [
       "array([[1., 2., 3.],\n",
       "       [1., 2., 3.],\n",
       "       [1., 2., 3.]])"
      ]
     },
     "execution_count": 20,
     "metadata": {},
     "output_type": "execute_result"
    }
   ],
   "source": [
    "M + a"
   ]
  },
  {
   "cell_type": "code",
   "execution_count": 21,
   "metadata": {},
   "outputs": [],
   "source": [
    "a = np.arange(3)\n",
    "b = np.arange(3)[:, np.newaxis]"
   ]
  },
  {
   "cell_type": "code",
   "execution_count": 22,
   "metadata": {},
   "outputs": [
    {
     "data": {
      "text/plain": [
       "array([[0, 1, 2],\n",
       "       [1, 2, 3],\n",
       "       [2, 3, 4]])"
      ]
     },
     "execution_count": 22,
     "metadata": {},
     "output_type": "execute_result"
    }
   ],
   "source": [
    "a + b"
   ]
  },
  {
   "cell_type": "code",
   "execution_count": 23,
   "metadata": {},
   "outputs": [],
   "source": [
    "M = np.ones((3, 2))\n",
    "a = np.arange(3)"
   ]
  },
  {
   "cell_type": "code",
   "execution_count": 24,
   "metadata": {},
   "outputs": [
    {
     "ename": "ValueError",
     "evalue": "operands could not be broadcast together with shapes (3,2) (3,) ",
     "output_type": "error",
     "traceback": [
      "\u001b[1;31m---------------------------------------------------------------------------\u001b[0m",
      "\u001b[1;31mValueError\u001b[0m                                Traceback (most recent call last)",
      "\u001b[1;32m<ipython-input-24-26d21c319ec3>\u001b[0m in \u001b[0;36m<module>\u001b[1;34m()\u001b[0m\n\u001b[0;32m      1\u001b[0m \u001b[1;33m\u001b[0m\u001b[0m\n\u001b[1;32m----> 2\u001b[1;33m \u001b[0mM\u001b[0m \u001b[1;33m+\u001b[0m \u001b[0ma\u001b[0m\u001b[1;33m\u001b[0m\u001b[0m\n\u001b[0m",
      "\u001b[1;31mValueError\u001b[0m: operands could not be broadcast together with shapes (3,2) (3,) "
     ]
    }
   ],
   "source": [
    "\n",
    "#M + a"
   ]
  },
  {
   "cell_type": "code",
   "execution_count": 25,
   "metadata": {},
   "outputs": [
    {
     "data": {
      "text/plain": [
       "(3, 1)"
      ]
     },
     "execution_count": 25,
     "metadata": {},
     "output_type": "execute_result"
    }
   ],
   "source": [
    "a[:, np.newaxis].shape"
   ]
  },
  {
   "cell_type": "code",
   "execution_count": 26,
   "metadata": {},
   "outputs": [
    {
     "data": {
      "text/plain": [
       "array([[1., 1.],\n",
       "       [2., 2.],\n",
       "       [3., 3.]])"
      ]
     },
     "execution_count": 26,
     "metadata": {},
     "output_type": "execute_result"
    }
   ],
   "source": [
    "M + a[:, np.newaxis]"
   ]
  },
  {
   "cell_type": "code",
   "execution_count": 27,
   "metadata": {},
   "outputs": [
    {
     "data": {
      "text/plain": [
       "array([[1.31326169, 1.31326169],\n",
       "       [1.69314718, 1.69314718],\n",
       "       [2.31326169, 2.31326169]])"
      ]
     },
     "execution_count": 27,
     "metadata": {},
     "output_type": "execute_result"
    }
   ],
   "source": [
    "np.logaddexp(M, a[:, np.newaxis])"
   ]
  },
  {
   "cell_type": "code",
   "execution_count": 28,
   "metadata": {},
   "outputs": [
    {
     "data": {
      "text/plain": [
       "array([[0.73335393, 0.75870155, 0.69916913],\n",
       "       [0.97250218, 0.00515851, 0.13772147],\n",
       "       [0.95998032, 0.08056849, 0.92512295],\n",
       "       [0.2724532 , 0.85150575, 0.28017408],\n",
       "       [0.53274444, 0.37909204, 0.04464523],\n",
       "       [0.52976802, 0.30472663, 0.77174635],\n",
       "       [0.71092291, 0.56609754, 0.31285061],\n",
       "       [0.2162325 , 0.91627637, 0.83485379],\n",
       "       [0.45773037, 0.3020326 , 0.61920776],\n",
       "       [0.98027232, 0.83570333, 0.36091253]])"
      ]
     },
     "execution_count": 28,
     "metadata": {},
     "output_type": "execute_result"
    }
   ],
   "source": [
    "X = np.random.random((10, 3))\n",
    "X"
   ]
  },
  {
   "cell_type": "code",
   "execution_count": 30,
   "metadata": {},
   "outputs": [],
   "source": [
    "Xmean = X.mean(0)"
   ]
  },
  {
   "cell_type": "code",
   "execution_count": 31,
   "metadata": {},
   "outputs": [
    {
     "data": {
      "text/plain": [
       "array([0.63659602, 0.49998628, 0.49864039])"
      ]
     },
     "execution_count": 31,
     "metadata": {},
     "output_type": "execute_result"
    }
   ],
   "source": [
    "Xmean"
   ]
  },
  {
   "cell_type": "code",
   "execution_count": 33,
   "metadata": {},
   "outputs": [
    {
     "data": {
      "text/plain": [
       "array([0.7304082 , 0.37179405, 0.65522392, 0.46804435, 0.31882724,\n",
       "       0.53541367, 0.52995702, 0.65578755, 0.45965691, 0.72562939])"
      ]
     },
     "execution_count": 33,
     "metadata": {},
     "output_type": "execute_result"
    }
   ],
   "source": [
    "X.mean(axis = 1)"
   ]
  },
  {
   "cell_type": "code",
   "execution_count": 34,
   "metadata": {},
   "outputs": [
    {
     "data": {
      "text/plain": [
       "array([[ 0.09675791,  0.25871527,  0.20052874],\n",
       "       [ 0.33590616, -0.49482777, -0.36091892],\n",
       "       [ 0.3233843 , -0.4194178 ,  0.42648256],\n",
       "       [-0.36414282,  0.35151947, -0.2184663 ],\n",
       "       [-0.10385158, -0.12089424, -0.45399516],\n",
       "       [-0.106828  , -0.19525965,  0.27310596],\n",
       "       [ 0.07432689,  0.06611126, -0.18578978],\n",
       "       [-0.42036352,  0.41629009,  0.3362134 ],\n",
       "       [-0.17886565, -0.19795368,  0.12056737],\n",
       "       [ 0.3436763 ,  0.33571705, -0.13772786]])"
      ]
     },
     "execution_count": 34,
     "metadata": {},
     "output_type": "execute_result"
    }
   ],
   "source": [
    "X_centered = X - Xmean\n",
    "X_centered"
   ]
  },
  {
   "cell_type": "code",
   "execution_count": 35,
   "metadata": {},
   "outputs": [
    {
     "data": {
      "text/plain": [
       "array([-4.44089210e-17, -5.55111512e-17,  8.88178420e-17])"
      ]
     },
     "execution_count": 35,
     "metadata": {},
     "output_type": "execute_result"
    }
   ],
   "source": [
    "X_centered.mean(0)"
   ]
  },
  {
   "cell_type": "code",
   "execution_count": 36,
   "metadata": {},
   "outputs": [],
   "source": [
    "# x and y have 50 steps from 0 to 5\n",
    "x = np.linspace(0, 5, 50)\n",
    "y = np.linspace(0, 5, 50)[:, np.newaxis]\n",
    "\n",
    "z = np.sin(x) ** 10 + np.cos(10 + y * x) * np.cos(x)"
   ]
  },
  {
   "cell_type": "code",
   "execution_count": 37,
   "metadata": {},
   "outputs": [],
   "source": [
    "%matplotlib inline\n",
    "import matplotlib.pyplot as plt"
   ]
  },
  {
   "cell_type": "code",
   "execution_count": 38,
   "metadata": {},
   "outputs": [
    {
     "data": {
      "image/png": "[encoded data removed]",
      "text/plain": [
       "<Figure size 432x288 with 2 Axes>"
      ]
     },
     "metadata": {},
     "output_type": "display_data"
    }
   ],
   "source": [
    "plt.imshow(z, origin='lower', extent=[0, 5, 0, 5],\n",
    "           cmap='viridis')\n",
    "plt.colorbar();"
   ]
  },
  {
   "cell_type": "code",
   "execution_count": 39,
   "metadata": {},
   "outputs": [
    {
     "data": {
      "text/plain": [
       "array([1, 2, 3, 4, 5])"
      ]
     },
     "execution_count": 39,
     "metadata": {},
     "output_type": "execute_result"
    }
   ],
   "source": [
    "x = np.arange(1, 6)\n",
    "x"
   ]
  },
  {
   "cell_type": "code",
   "execution_count": 40,
   "metadata": {},
   "outputs": [
    {
     "data": {
      "text/plain": [
       "array([ True,  True, False, False, False])"
      ]
     },
     "execution_count": 40,
     "metadata": {},
     "output_type": "execute_result"
    }
   ],
   "source": [
    "#比較 布林\n",
    "x < 3"
   ]
  },
  {
   "cell_type": "code",
   "execution_count": 41,
   "metadata": {},
   "outputs": [
    {
     "data": {
      "text/plain": [
       "array([False, False, False,  True,  True])"
      ]
     },
     "execution_count": 41,
     "metadata": {},
     "output_type": "execute_result"
    }
   ],
   "source": [
    "x > 3\n"
   ]
  },
  {
   "cell_type": "code",
   "execution_count": 42,
   "metadata": {},
   "outputs": [
    {
     "data": {
      "text/plain": [
       "array([ True,  True,  True, False, False])"
      ]
     },
     "execution_count": 42,
     "metadata": {},
     "output_type": "execute_result"
    }
   ],
   "source": [
    "x <= 3"
   ]
  },
  {
   "cell_type": "code",
   "execution_count": 43,
   "metadata": {},
   "outputs": [
    {
     "data": {
      "text/plain": [
       "array([False, False,  True,  True,  True])"
      ]
     },
     "execution_count": 43,
     "metadata": {},
     "output_type": "execute_result"
    }
   ],
   "source": [
    "x >= 3"
   ]
  },
  {
   "cell_type": "code",
   "execution_count": 44,
   "metadata": {},
   "outputs": [
    {
     "data": {
      "text/plain": [
       "array([ True,  True, False,  True,  True])"
      ]
     },
     "execution_count": 44,
     "metadata": {},
     "output_type": "execute_result"
    }
   ],
   "source": [
    "x != 3"
   ]
  },
  {
   "cell_type": "code",
   "execution_count": 45,
   "metadata": {},
   "outputs": [
    {
     "data": {
      "text/plain": [
       "array([False, False,  True, False, False])"
      ]
     },
     "execution_count": 45,
     "metadata": {},
     "output_type": "execute_result"
    }
   ],
   "source": [
    "x == 3"
   ]
  },
  {
   "cell_type": "code",
   "execution_count": 46,
   "metadata": {},
   "outputs": [
    {
     "data": {
      "text/plain": [
       "array([False,  True, False, False, False])"
      ]
     },
     "execution_count": 46,
     "metadata": {},
     "output_type": "execute_result"
    }
   ],
   "source": [
    "(2 * x) == (x ** 2)"
   ]
  },
  {
   "cell_type": "code",
   "execution_count": 50,
   "metadata": {},
   "outputs": [],
   "source": [
    "rng = np.random.RandomState(0)\n",
    "x = np.random.randint(10, size = (3, 4))"
   ]
  },
  {
   "cell_type": "code",
   "execution_count": 51,
   "metadata": {},
   "outputs": [
    {
     "data": {
      "text/plain": [
       "array([[8, 3, 1, 3],\n",
       "       [9, 5, 4, 2],\n",
       "       [9, 2, 6, 3]])"
      ]
     },
     "execution_count": 51,
     "metadata": {},
     "output_type": "execute_result"
    }
   ],
   "source": [
    "x"
   ]
  },
  {
   "cell_type": "code",
   "execution_count": 52,
   "metadata": {},
   "outputs": [
    {
     "data": {
      "text/plain": [
       "array([[False,  True,  True,  True],\n",
       "       [False,  True,  True,  True],\n",
       "       [False,  True, False,  True]])"
      ]
     },
     "execution_count": 52,
     "metadata": {},
     "output_type": "execute_result"
    }
   ],
   "source": [
    "x < 6"
   ]
  },
  {
   "cell_type": "code",
   "execution_count": 53,
   "metadata": {},
   "outputs": [
    {
     "name": "stdout",
     "output_type": "stream",
     "text": [
      "[[8 3 1 3]\n",
      " [9 5 4 2]\n",
      " [9 2 6 3]]\n"
     ]
    }
   ],
   "source": [
    "print(x)"
   ]
  },
  {
   "cell_type": "code",
   "execution_count": 54,
   "metadata": {},
   "outputs": [
    {
     "data": {
      "text/plain": [
       "8"
      ]
     },
     "execution_count": 54,
     "metadata": {},
     "output_type": "execute_result"
    }
   ],
   "source": [
    "np.count_nonzero(x < 6)"
   ]
  },
  {
   "cell_type": "code",
   "execution_count": 55,
   "metadata": {},
   "outputs": [
    {
     "data": {
      "text/plain": [
       "8"
      ]
     },
     "execution_count": 55,
     "metadata": {},
     "output_type": "execute_result"
    }
   ],
   "source": [
    "np.sum(x < 6)"
   ]
  },
  {
   "cell_type": "code",
   "execution_count": 56,
   "metadata": {},
   "outputs": [
    {
     "data": {
      "text/plain": [
       "array([3, 3, 2])"
      ]
     },
     "execution_count": 56,
     "metadata": {},
     "output_type": "execute_result"
    }
   ],
   "source": [
    "np.sum(x < 6, axis = 1)"
   ]
  },
  {
   "cell_type": "code",
   "execution_count": 57,
   "metadata": {},
   "outputs": [
    {
     "data": {
      "text/plain": [
       "True"
      ]
     },
     "execution_count": 57,
     "metadata": {},
     "output_type": "execute_result"
    }
   ],
   "source": [
    "#任何 任意\n",
    "np.any(x > 8)"
   ]
  },
  {
   "cell_type": "code",
   "execution_count": 58,
   "metadata": {},
   "outputs": [
    {
     "data": {
      "text/plain": [
       "False"
      ]
     },
     "execution_count": 58,
     "metadata": {},
     "output_type": "execute_result"
    }
   ],
   "source": [
    "np.any(x < 0)"
   ]
  },
  {
   "cell_type": "code",
   "execution_count": 59,
   "metadata": {},
   "outputs": [
    {
     "data": {
      "text/plain": [
       "True"
      ]
     },
     "execution_count": 59,
     "metadata": {},
     "output_type": "execute_result"
    }
   ],
   "source": [
    "np.all(x < 10)"
   ]
  },
  {
   "cell_type": "code",
   "execution_count": 60,
   "metadata": {},
   "outputs": [
    {
     "data": {
      "text/plain": [
       "array([False, False, False])"
      ]
     },
     "execution_count": 60,
     "metadata": {},
     "output_type": "execute_result"
    }
   ],
   "source": [
    "np.all(x < 8, axis = 1)"
   ]
  },
  {
   "cell_type": "code",
   "execution_count": 61,
   "metadata": {},
   "outputs": [],
   "source": [
    "# & ^ | ~\n",
    "\n"
   ]
  },
  {
   "cell_type": "code",
   "execution_count": 65,
   "metadata": {},
   "outputs": [
    {
     "data": {
      "text/plain": [
       "array([51, 92, 14, 71, 60, 20, 82, 86, 74, 74])"
      ]
     },
     "execution_count": 65,
     "metadata": {},
     "output_type": "execute_result"
    }
   ],
   "source": [
    "#位置所引 能用list array\n",
    "rand = np.random.RandomState(42)\n",
    "x = rand.randint(100, size=10)\n",
    "x"
   ]
  },
  {
   "cell_type": "code",
   "execution_count": 66,
   "metadata": {},
   "outputs": [
    {
     "data": {
      "text/plain": [
       "[14, 60, 86]"
      ]
     },
     "execution_count": 66,
     "metadata": {},
     "output_type": "execute_result"
    }
   ],
   "source": [
    "[x[2], x[4], x[7]]"
   ]
  },
  {
   "cell_type": "code",
   "execution_count": 73,
   "metadata": {},
   "outputs": [],
   "source": [
    "ind = rand.randint(10, size=4)"
   ]
  },
  {
   "cell_type": "code",
   "execution_count": 74,
   "metadata": {},
   "outputs": [
    {
     "data": {
      "text/plain": [
       "array([7, 4, 3, 7])"
      ]
     },
     "execution_count": 74,
     "metadata": {},
     "output_type": "execute_result"
    }
   ],
   "source": [
    "ind"
   ]
  },
  {
   "cell_type": "code",
   "execution_count": 75,
   "metadata": {},
   "outputs": [
    {
     "data": {
      "text/plain": [
       "array([86, 60, 71, 86])"
      ]
     },
     "execution_count": 75,
     "metadata": {},
     "output_type": "execute_result"
    }
   ],
   "source": [
    "x[ind]"
   ]
  },
  {
   "cell_type": "code",
   "execution_count": 76,
   "metadata": {},
   "outputs": [
    {
     "data": {
      "text/plain": [
       "array([86, 60, 71, 86])"
      ]
     },
     "execution_count": 76,
     "metadata": {},
     "output_type": "execute_result"
    }
   ],
   "source": [
    "ind = [7, 4, 3, 7]\n",
    "x[ind]"
   ]
  },
  {
   "cell_type": "code",
   "execution_count": 77,
   "metadata": {},
   "outputs": [],
   "source": [
    "ind = rand.randint(10, size=(2,2))"
   ]
  },
  {
   "cell_type": "code",
   "execution_count": 78,
   "metadata": {},
   "outputs": [
    {
     "data": {
      "text/plain": [
       "array([[86, 14],\n",
       "       [20, 60]])"
      ]
     },
     "execution_count": 78,
     "metadata": {},
     "output_type": "execute_result"
    }
   ],
   "source": [
    "x[ind]"
   ]
  },
  {
   "cell_type": "code",
   "execution_count": 80,
   "metadata": {},
   "outputs": [
    {
     "data": {
      "text/plain": [
       "array([[ 0,  1,  2,  3],\n",
       "       [ 4,  5,  6,  7],\n",
       "       [ 8,  9, 10, 11]])"
      ]
     },
     "execution_count": 80,
     "metadata": {},
     "output_type": "execute_result"
    }
   ],
   "source": [
    "X = np.arange(12).reshape((3, 4))\n",
    "X"
   ]
  },
  {
   "cell_type": "code",
   "execution_count": 86,
   "metadata": {},
   "outputs": [],
   "source": [
    "row = np.array([0, 1, 2])\n",
    "col = np.array([2, 1, 3])"
   ]
  },
  {
   "cell_type": "code",
   "execution_count": 87,
   "metadata": {},
   "outputs": [
    {
     "data": {
      "text/plain": [
       "array([ 2,  5, 11])"
      ]
     },
     "execution_count": 87,
     "metadata": {},
     "output_type": "execute_result"
    }
   ],
   "source": [
    "X[row, col]"
   ]
  },
  {
   "cell_type": "code",
   "execution_count": 88,
   "metadata": {},
   "outputs": [
    {
     "data": {
      "text/plain": [
       "array([[ 2,  1,  3],\n",
       "       [ 6,  5,  7],\n",
       "       [10,  9, 11]])"
      ]
     },
     "execution_count": 88,
     "metadata": {},
     "output_type": "execute_result"
    }
   ],
   "source": [
    "X[row[:, np.newaxis], col]\n"
   ]
  },
  {
   "cell_type": "code",
   "execution_count": 89,
   "metadata": {},
   "outputs": [
    {
     "data": {
      "text/plain": [
       "array([[0, 0, 0],\n",
       "       [2, 1, 3],\n",
       "       [4, 2, 6]])"
      ]
     },
     "execution_count": 89,
     "metadata": {},
     "output_type": "execute_result"
    }
   ],
   "source": [
    "row[:, np.newaxis] * col"
   ]
  },
  {
   "cell_type": "code",
   "execution_count": 91,
   "metadata": {},
   "outputs": [
    {
     "name": "stdout",
     "output_type": "stream",
     "text": [
      "[[ 0  1  2  3]\n",
      " [ 4  5  6  7]\n",
      " [ 8  9 10 11]]\n"
     ]
    }
   ],
   "source": [
    "#合併所引\n",
    "print(X)"
   ]
  },
  {
   "cell_type": "code",
   "execution_count": 92,
   "metadata": {},
   "outputs": [
    {
     "data": {
      "text/plain": [
       "array([10,  8,  9])"
      ]
     },
     "execution_count": 92,
     "metadata": {},
     "output_type": "execute_result"
    }
   ],
   "source": [
    "X[2, [2, 0, 1]]"
   ]
  },
  {
   "cell_type": "code",
   "execution_count": 93,
   "metadata": {},
   "outputs": [
    {
     "data": {
      "text/plain": [
       "array([[ 6,  4,  5],\n",
       "       [10,  8,  9]])"
      ]
     },
     "execution_count": 93,
     "metadata": {},
     "output_type": "execute_result"
    }
   ],
   "source": [
    "X[1:, [2, 0, 1]]"
   ]
  },
  {
   "cell_type": "code",
   "execution_count": 94,
   "metadata": {},
   "outputs": [
    {
     "data": {
      "text/plain": [
       "array([[ 0,  2],\n",
       "       [ 4,  6],\n",
       "       [ 8, 10]])"
      ]
     },
     "execution_count": 94,
     "metadata": {},
     "output_type": "execute_result"
    }
   ],
   "source": [
    "mask = np.array([1, 0, 1, 0], dtype=bool)\n",
    "X[row[:, np.newaxis], mask]"
   ]
  },
  {
   "cell_type": "code",
   "execution_count": null,
   "metadata": {},
   "outputs": [],
   "source": []
  }
 ],
 "metadata": {
  "colab": {
   "collapsed_sections": [],
   "name": "numpy.ipynb",
   "provenance": []
  },
  "kernelspec": {
   "display_name": "Python 3",
   "language": "python",
   "name": "python3"
  },
  "language_info": {
   "codemirror_mode": {
    "name": "ipython",
    "version": 3
   },
   "file_extension": ".py",
   "mimetype": "text/x-python",
   "name": "python",
   "nbconvert_exporter": "python",
   "pygments_lexer": "ipython3",
   "version": "3.6.5"
  }
 },
 "nbformat": 4,
 "nbformat_minor": 1
}
